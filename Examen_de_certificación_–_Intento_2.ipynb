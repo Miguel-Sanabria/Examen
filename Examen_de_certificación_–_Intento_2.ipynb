{
  "nbformat": 4,
  "nbformat_minor": 0,
  "metadata": {
    "colab": {
      "provenance": [],
      "collapsed_sections": [
        "jyQNtGcEBjvk",
        "Tjr1jSG0Pqmt",
        "D6oXrJ6kQLjA",
        "gV2FCc99oUPt",
        "LB8s-RSbrNVi",
        "662j5huCaw-E",
        "TcA3BhTpbSpH",
        "Q4nfTts4Upra",
        "0AD8MlXKtJG6",
        "UlGjQFlmybxM",
        "SHQxIWr66y1l"
      ]
    },
    "kernelspec": {
      "name": "python3",
      "display_name": "Python 3"
    },
    "language_info": {
      "name": "python"
    }
  },
  "cells": [
    {
      "cell_type": "markdown",
      "source": [
        "# Dataset"
      ],
      "metadata": {
        "id": "jyQNtGcEBjvk"
      }
    },
    {
      "cell_type": "markdown",
      "source": [
        "[Retail Sales Dataset](https://www.kaggle.com/datasets/mohammadtalib786/retail-sales-dataset)"
      ],
      "metadata": {
        "id": "0fmO9hLt0vfy"
      }
    },
    {
      "cell_type": "markdown",
      "source": [
        "**Acerca de este archivo**\n",
        "\n",
        "* **ID de transacción:** un identificador único para cada transacción, que permite el seguimiento y la referencia.\n",
        "\n",
        "* **Fecha:** la fecha en que se realizó la transacción, que proporciona información sobre las tendencias de ventas a lo largo del tiempo.\n",
        "\n",
        "* **Identificación del cliente:** un identificador único para cada cliente, que permite un análisis centrado en el cliente.\n",
        "\n",
        "* **Género:** El género del cliente (hombre/mujer), que ofrece información sobre patrones de compra basados ​​en el género.\n",
        "\n",
        "* **Edad:** La edad del cliente, lo que facilita la segmentación y la exploración de influencias relacionadas con la edad.\n",
        "\n",
        "* **Categoría de producto:** La categoría del producto adquirido (por ejemplo, Electrónica, Ropa, Belleza), que ayuda a comprender las preferencias de productos.\n",
        "\n",
        "* **Cantidad:** Número de unidades del producto compradas, lo que contribuye a obtener información sobre los volúmenes de compra.\n",
        "\n",
        "* **Precio por unidad:** El precio de una unidad del producto, que ayuda en los cálculos relacionados con el gasto total.\n",
        "\n",
        "* **Monto total:** el valor monetario total de la transacción, que muestra el impacto financiero de cada compra."
      ],
      "metadata": {
        "id": "0QNnPdZS0jZa"
      }
    },
    {
      "cell_type": "markdown",
      "source": [
        "# **Requerimientos**"
      ],
      "metadata": {
        "id": "scAGQLiuIEuO"
      }
    },
    {
      "cell_type": "markdown",
      "source": [
        "----------------------------------------------\n",
        "# **Paso 1 - Limpieza de Datos:**\n",
        "* **Identificación y eliminación de valores duplicados:** Asegúrate de que no haya registros duplicados que puedan sesgar los resultados del análisis.\n",
        "* **Verificación y ajuste de tipos de datos:** Verifica que cada columna tenga el tipo de dato correcto (numérico o categórico) y ajústalo si es necesario.\n",
        "* **Corrección de inconsistencias en valores categóricos:** Revisa las categorías de las variables y unifica aquellos valores que puedan estar escritos de diferentes maneras pero que representen lo mismo.\n",
        "* **Manejo de valores faltantes adecuadamente:** Identifica y maneja los valores faltantes utilizando técnicas apropiadas como la imputación de la mediana, media o moda, según corresponda.\n",
        "----------------------------------------------\n"
      ],
      "metadata": {
        "id": "5j3yFNeRlkkS"
      }
    },
    {
      "cell_type": "markdown",
      "source": [
        "# Librerias"
      ],
      "metadata": {
        "id": "Tjr1jSG0Pqmt"
      }
    },
    {
      "cell_type": "code",
      "source": [
        "# Standard libraries for data manipulation and visualization\n",
        "import numpy as np\n",
        "import pandas as pd\n",
        "import matplotlib.pyplot as plt\n",
        "import seaborn as sns\n",
        "\n",
        "# Kaggle utility\n",
        "import kagglehub\n",
        "\n",
        "# Scikit-learn utilities for building pipelines and transformers\n",
        "from sklearn.base import BaseEstimator, TransformerMixin\n",
        "from sklearn.compose import ColumnTransformer\n",
        "from sklearn.pipeline import Pipeline\n",
        "\n",
        "# Scikit-learn for preprocessing\n",
        "from sklearn.preprocessing import OneHotEncoder, StandardScaler, label_binarize\n",
        "from sklearn.impute import SimpleImputer\n",
        "\n",
        "# Scikit-learn models\n",
        "from sklearn.linear_model import LogisticRegression, LinearRegression\n",
        "from sklearn.tree import DecisionTreeClassifier, DecisionTreeRegressor\n",
        "from sklearn.neighbors import KNeighborsClassifier, KNeighborsRegressor\n",
        "from sklearn.ensemble import RandomForestClassifier, RandomForestRegressor\n",
        "from sklearn.svm import SVC, SVR\n",
        "\n",
        "# Scikit-learn model selection tools\n",
        "from sklearn.model_selection import train_test_split, cross_val_score, GridSearchCV\n",
        "\n",
        "# Scikit-learn metrics\n",
        "from sklearn.metrics import accuracy_score, classification_report, confusion_matrix\n",
        "from sklearn.metrics import mean_squared_error, r2_score\n",
        "from sklearn.metrics import roc_curve, auc\n",
        "\n",
        "# Scikit-learn for multiclass strategies\n",
        "from sklearn.multiclass import OneVsRestClassifier"
      ],
      "metadata": {
        "id": "ymvLMAYIP06Y"
      },
      "execution_count": 11,
      "outputs": []
    },
    {
      "cell_type": "markdown",
      "source": [
        "# Identificación y eliminación de valores duplicados"
      ],
      "metadata": {
        "id": "D6oXrJ6kQLjA"
      }
    },
    {
      "cell_type": "markdown",
      "source": [
        "**Cargar datos**"
      ],
      "metadata": {
        "id": "fvUBmiYVHs1s"
      }
    },
    {
      "cell_type": "code",
      "execution_count": 12,
      "metadata": {
        "colab": {
          "base_uri": "https://localhost:8080/"
        },
        "id": "QCm-mgXmAu3l",
        "outputId": "a0006bf9-6495-472f-f45f-c200a1c5a196"
      },
      "outputs": [
        {
          "output_type": "stream",
          "name": "stdout",
          "text": [
            "Path to dataset files: /root/.cache/kagglehub/datasets/mohammadtalib786/retail-sales-dataset/versions/1\n"
          ]
        }
      ],
      "source": [
        "# Download latest version\n",
        "path = kagglehub.dataset_download(\"mohammadtalib786/retail-sales-dataset\")\n",
        "\n",
        "print(\"Path to dataset files:\", path)"
      ]
    },
    {
      "cell_type": "code",
      "source": [
        "# Ruta de archivo CSV\n",
        "data = pd.read_csv(path + \"/retail_sales_dataset.csv\")\n",
        "\n",
        "# Mostrar resultado\n",
        "data"
      ],
      "metadata": {
        "id": "VBl_fycSBxE0",
        "colab": {
          "base_uri": "https://localhost:8080/",
          "height": 424
        },
        "outputId": "143ae3e4-cd7c-4885-d86f-fae8b8fc987e"
      },
      "execution_count": 13,
      "outputs": [
        {
          "output_type": "execute_result",
          "data": {
            "text/plain": [
              "     Transaction ID        Date Customer ID  Gender  Age Product Category  \\\n",
              "0                 1  2023-11-24     CUST001    Male   34           Beauty   \n",
              "1                 2  2023-02-27     CUST002  Female   26         Clothing   \n",
              "2                 3  2023-01-13     CUST003    Male   50      Electronics   \n",
              "3                 4  2023-05-21     CUST004    Male   37         Clothing   \n",
              "4                 5  2023-05-06     CUST005    Male   30           Beauty   \n",
              "..              ...         ...         ...     ...  ...              ...   \n",
              "995             996  2023-05-16     CUST996    Male   62         Clothing   \n",
              "996             997  2023-11-17     CUST997    Male   52           Beauty   \n",
              "997             998  2023-10-29     CUST998  Female   23           Beauty   \n",
              "998             999  2023-12-05     CUST999  Female   36      Electronics   \n",
              "999            1000  2023-04-12    CUST1000    Male   47      Electronics   \n",
              "\n",
              "     Quantity  Price per Unit  Total Amount  \n",
              "0           3              50           150  \n",
              "1           2             500          1000  \n",
              "2           1              30            30  \n",
              "3           1             500           500  \n",
              "4           2              50           100  \n",
              "..        ...             ...           ...  \n",
              "995         1              50            50  \n",
              "996         3              30            90  \n",
              "997         4              25           100  \n",
              "998         3              50           150  \n",
              "999         4              30           120  \n",
              "\n",
              "[1000 rows x 9 columns]"
            ],
            "text/html": [
              "\n",
              "  <div id=\"df-fc11949d-324f-4a50-8a42-1ab361961b1a\" class=\"colab-df-container\">\n",
              "    <div>\n",
              "<style scoped>\n",
              "    .dataframe tbody tr th:only-of-type {\n",
              "        vertical-align: middle;\n",
              "    }\n",
              "\n",
              "    .dataframe tbody tr th {\n",
              "        vertical-align: top;\n",
              "    }\n",
              "\n",
              "    .dataframe thead th {\n",
              "        text-align: right;\n",
              "    }\n",
              "</style>\n",
              "<table border=\"1\" class=\"dataframe\">\n",
              "  <thead>\n",
              "    <tr style=\"text-align: right;\">\n",
              "      <th></th>\n",
              "      <th>Transaction ID</th>\n",
              "      <th>Date</th>\n",
              "      <th>Customer ID</th>\n",
              "      <th>Gender</th>\n",
              "      <th>Age</th>\n",
              "      <th>Product Category</th>\n",
              "      <th>Quantity</th>\n",
              "      <th>Price per Unit</th>\n",
              "      <th>Total Amount</th>\n",
              "    </tr>\n",
              "  </thead>\n",
              "  <tbody>\n",
              "    <tr>\n",
              "      <th>0</th>\n",
              "      <td>1</td>\n",
              "      <td>2023-11-24</td>\n",
              "      <td>CUST001</td>\n",
              "      <td>Male</td>\n",
              "      <td>34</td>\n",
              "      <td>Beauty</td>\n",
              "      <td>3</td>\n",
              "      <td>50</td>\n",
              "      <td>150</td>\n",
              "    </tr>\n",
              "    <tr>\n",
              "      <th>1</th>\n",
              "      <td>2</td>\n",
              "      <td>2023-02-27</td>\n",
              "      <td>CUST002</td>\n",
              "      <td>Female</td>\n",
              "      <td>26</td>\n",
              "      <td>Clothing</td>\n",
              "      <td>2</td>\n",
              "      <td>500</td>\n",
              "      <td>1000</td>\n",
              "    </tr>\n",
              "    <tr>\n",
              "      <th>2</th>\n",
              "      <td>3</td>\n",
              "      <td>2023-01-13</td>\n",
              "      <td>CUST003</td>\n",
              "      <td>Male</td>\n",
              "      <td>50</td>\n",
              "      <td>Electronics</td>\n",
              "      <td>1</td>\n",
              "      <td>30</td>\n",
              "      <td>30</td>\n",
              "    </tr>\n",
              "    <tr>\n",
              "      <th>3</th>\n",
              "      <td>4</td>\n",
              "      <td>2023-05-21</td>\n",
              "      <td>CUST004</td>\n",
              "      <td>Male</td>\n",
              "      <td>37</td>\n",
              "      <td>Clothing</td>\n",
              "      <td>1</td>\n",
              "      <td>500</td>\n",
              "      <td>500</td>\n",
              "    </tr>\n",
              "    <tr>\n",
              "      <th>4</th>\n",
              "      <td>5</td>\n",
              "      <td>2023-05-06</td>\n",
              "      <td>CUST005</td>\n",
              "      <td>Male</td>\n",
              "      <td>30</td>\n",
              "      <td>Beauty</td>\n",
              "      <td>2</td>\n",
              "      <td>50</td>\n",
              "      <td>100</td>\n",
              "    </tr>\n",
              "    <tr>\n",
              "      <th>...</th>\n",
              "      <td>...</td>\n",
              "      <td>...</td>\n",
              "      <td>...</td>\n",
              "      <td>...</td>\n",
              "      <td>...</td>\n",
              "      <td>...</td>\n",
              "      <td>...</td>\n",
              "      <td>...</td>\n",
              "      <td>...</td>\n",
              "    </tr>\n",
              "    <tr>\n",
              "      <th>995</th>\n",
              "      <td>996</td>\n",
              "      <td>2023-05-16</td>\n",
              "      <td>CUST996</td>\n",
              "      <td>Male</td>\n",
              "      <td>62</td>\n",
              "      <td>Clothing</td>\n",
              "      <td>1</td>\n",
              "      <td>50</td>\n",
              "      <td>50</td>\n",
              "    </tr>\n",
              "    <tr>\n",
              "      <th>996</th>\n",
              "      <td>997</td>\n",
              "      <td>2023-11-17</td>\n",
              "      <td>CUST997</td>\n",
              "      <td>Male</td>\n",
              "      <td>52</td>\n",
              "      <td>Beauty</td>\n",
              "      <td>3</td>\n",
              "      <td>30</td>\n",
              "      <td>90</td>\n",
              "    </tr>\n",
              "    <tr>\n",
              "      <th>997</th>\n",
              "      <td>998</td>\n",
              "      <td>2023-10-29</td>\n",
              "      <td>CUST998</td>\n",
              "      <td>Female</td>\n",
              "      <td>23</td>\n",
              "      <td>Beauty</td>\n",
              "      <td>4</td>\n",
              "      <td>25</td>\n",
              "      <td>100</td>\n",
              "    </tr>\n",
              "    <tr>\n",
              "      <th>998</th>\n",
              "      <td>999</td>\n",
              "      <td>2023-12-05</td>\n",
              "      <td>CUST999</td>\n",
              "      <td>Female</td>\n",
              "      <td>36</td>\n",
              "      <td>Electronics</td>\n",
              "      <td>3</td>\n",
              "      <td>50</td>\n",
              "      <td>150</td>\n",
              "    </tr>\n",
              "    <tr>\n",
              "      <th>999</th>\n",
              "      <td>1000</td>\n",
              "      <td>2023-04-12</td>\n",
              "      <td>CUST1000</td>\n",
              "      <td>Male</td>\n",
              "      <td>47</td>\n",
              "      <td>Electronics</td>\n",
              "      <td>4</td>\n",
              "      <td>30</td>\n",
              "      <td>120</td>\n",
              "    </tr>\n",
              "  </tbody>\n",
              "</table>\n",
              "<p>1000 rows × 9 columns</p>\n",
              "</div>\n",
              "    <div class=\"colab-df-buttons\">\n",
              "\n",
              "  <div class=\"colab-df-container\">\n",
              "    <button class=\"colab-df-convert\" onclick=\"convertToInteractive('df-fc11949d-324f-4a50-8a42-1ab361961b1a')\"\n",
              "            title=\"Convert this dataframe to an interactive table.\"\n",
              "            style=\"display:none;\">\n",
              "\n",
              "  <svg xmlns=\"http://www.w3.org/2000/svg\" height=\"24px\" viewBox=\"0 -960 960 960\">\n",
              "    <path d=\"M120-120v-720h720v720H120Zm60-500h600v-160H180v160Zm220 220h160v-160H400v160Zm0 220h160v-160H400v160ZM180-400h160v-160H180v160Zm440 0h160v-160H620v160ZM180-180h160v-160H180v160Zm440 0h160v-160H620v160Z\"/>\n",
              "  </svg>\n",
              "    </button>\n",
              "\n",
              "  <style>\n",
              "    .colab-df-container {\n",
              "      display:flex;\n",
              "      gap: 12px;\n",
              "    }\n",
              "\n",
              "    .colab-df-convert {\n",
              "      background-color: #E8F0FE;\n",
              "      border: none;\n",
              "      border-radius: 50%;\n",
              "      cursor: pointer;\n",
              "      display: none;\n",
              "      fill: #1967D2;\n",
              "      height: 32px;\n",
              "      padding: 0 0 0 0;\n",
              "      width: 32px;\n",
              "    }\n",
              "\n",
              "    .colab-df-convert:hover {\n",
              "      background-color: #E2EBFA;\n",
              "      box-shadow: 0px 1px 2px rgba(60, 64, 67, 0.3), 0px 1px 3px 1px rgba(60, 64, 67, 0.15);\n",
              "      fill: #174EA6;\n",
              "    }\n",
              "\n",
              "    .colab-df-buttons div {\n",
              "      margin-bottom: 4px;\n",
              "    }\n",
              "\n",
              "    [theme=dark] .colab-df-convert {\n",
              "      background-color: #3B4455;\n",
              "      fill: #D2E3FC;\n",
              "    }\n",
              "\n",
              "    [theme=dark] .colab-df-convert:hover {\n",
              "      background-color: #434B5C;\n",
              "      box-shadow: 0px 1px 3px 1px rgba(0, 0, 0, 0.15);\n",
              "      filter: drop-shadow(0px 1px 2px rgba(0, 0, 0, 0.3));\n",
              "      fill: #FFFFFF;\n",
              "    }\n",
              "  </style>\n",
              "\n",
              "    <script>\n",
              "      const buttonEl =\n",
              "        document.querySelector('#df-fc11949d-324f-4a50-8a42-1ab361961b1a button.colab-df-convert');\n",
              "      buttonEl.style.display =\n",
              "        google.colab.kernel.accessAllowed ? 'block' : 'none';\n",
              "\n",
              "      async function convertToInteractive(key) {\n",
              "        const element = document.querySelector('#df-fc11949d-324f-4a50-8a42-1ab361961b1a');\n",
              "        const dataTable =\n",
              "          await google.colab.kernel.invokeFunction('convertToInteractive',\n",
              "                                                    [key], {});\n",
              "        if (!dataTable) return;\n",
              "\n",
              "        const docLinkHtml = 'Like what you see? Visit the ' +\n",
              "          '<a target=\"_blank\" href=https://colab.research.google.com/notebooks/data_table.ipynb>data table notebook</a>'\n",
              "          + ' to learn more about interactive tables.';\n",
              "        element.innerHTML = '';\n",
              "        dataTable['output_type'] = 'display_data';\n",
              "        await google.colab.output.renderOutput(dataTable, element);\n",
              "        const docLink = document.createElement('div');\n",
              "        docLink.innerHTML = docLinkHtml;\n",
              "        element.appendChild(docLink);\n",
              "      }\n",
              "    </script>\n",
              "  </div>\n",
              "\n",
              "\n",
              "<div id=\"df-ebfb7dbb-5b5a-4399-abc3-a971518859dd\">\n",
              "  <button class=\"colab-df-quickchart\" onclick=\"quickchart('df-ebfb7dbb-5b5a-4399-abc3-a971518859dd')\"\n",
              "            title=\"Suggest charts\"\n",
              "            style=\"display:none;\">\n",
              "\n",
              "<svg xmlns=\"http://www.w3.org/2000/svg\" height=\"24px\"viewBox=\"0 0 24 24\"\n",
              "     width=\"24px\">\n",
              "    <g>\n",
              "        <path d=\"M19 3H5c-1.1 0-2 .9-2 2v14c0 1.1.9 2 2 2h14c1.1 0 2-.9 2-2V5c0-1.1-.9-2-2-2zM9 17H7v-7h2v7zm4 0h-2V7h2v10zm4 0h-2v-4h2v4z\"/>\n",
              "    </g>\n",
              "</svg>\n",
              "  </button>\n",
              "\n",
              "<style>\n",
              "  .colab-df-quickchart {\n",
              "      --bg-color: #E8F0FE;\n",
              "      --fill-color: #1967D2;\n",
              "      --hover-bg-color: #E2EBFA;\n",
              "      --hover-fill-color: #174EA6;\n",
              "      --disabled-fill-color: #AAA;\n",
              "      --disabled-bg-color: #DDD;\n",
              "  }\n",
              "\n",
              "  [theme=dark] .colab-df-quickchart {\n",
              "      --bg-color: #3B4455;\n",
              "      --fill-color: #D2E3FC;\n",
              "      --hover-bg-color: #434B5C;\n",
              "      --hover-fill-color: #FFFFFF;\n",
              "      --disabled-bg-color: #3B4455;\n",
              "      --disabled-fill-color: #666;\n",
              "  }\n",
              "\n",
              "  .colab-df-quickchart {\n",
              "    background-color: var(--bg-color);\n",
              "    border: none;\n",
              "    border-radius: 50%;\n",
              "    cursor: pointer;\n",
              "    display: none;\n",
              "    fill: var(--fill-color);\n",
              "    height: 32px;\n",
              "    padding: 0;\n",
              "    width: 32px;\n",
              "  }\n",
              "\n",
              "  .colab-df-quickchart:hover {\n",
              "    background-color: var(--hover-bg-color);\n",
              "    box-shadow: 0 1px 2px rgba(60, 64, 67, 0.3), 0 1px 3px 1px rgba(60, 64, 67, 0.15);\n",
              "    fill: var(--button-hover-fill-color);\n",
              "  }\n",
              "\n",
              "  .colab-df-quickchart-complete:disabled,\n",
              "  .colab-df-quickchart-complete:disabled:hover {\n",
              "    background-color: var(--disabled-bg-color);\n",
              "    fill: var(--disabled-fill-color);\n",
              "    box-shadow: none;\n",
              "  }\n",
              "\n",
              "  .colab-df-spinner {\n",
              "    border: 2px solid var(--fill-color);\n",
              "    border-color: transparent;\n",
              "    border-bottom-color: var(--fill-color);\n",
              "    animation:\n",
              "      spin 1s steps(1) infinite;\n",
              "  }\n",
              "\n",
              "  @keyframes spin {\n",
              "    0% {\n",
              "      border-color: transparent;\n",
              "      border-bottom-color: var(--fill-color);\n",
              "      border-left-color: var(--fill-color);\n",
              "    }\n",
              "    20% {\n",
              "      border-color: transparent;\n",
              "      border-left-color: var(--fill-color);\n",
              "      border-top-color: var(--fill-color);\n",
              "    }\n",
              "    30% {\n",
              "      border-color: transparent;\n",
              "      border-left-color: var(--fill-color);\n",
              "      border-top-color: var(--fill-color);\n",
              "      border-right-color: var(--fill-color);\n",
              "    }\n",
              "    40% {\n",
              "      border-color: transparent;\n",
              "      border-right-color: var(--fill-color);\n",
              "      border-top-color: var(--fill-color);\n",
              "    }\n",
              "    60% {\n",
              "      border-color: transparent;\n",
              "      border-right-color: var(--fill-color);\n",
              "    }\n",
              "    80% {\n",
              "      border-color: transparent;\n",
              "      border-right-color: var(--fill-color);\n",
              "      border-bottom-color: var(--fill-color);\n",
              "    }\n",
              "    90% {\n",
              "      border-color: transparent;\n",
              "      border-bottom-color: var(--fill-color);\n",
              "    }\n",
              "  }\n",
              "</style>\n",
              "\n",
              "  <script>\n",
              "    async function quickchart(key) {\n",
              "      const quickchartButtonEl =\n",
              "        document.querySelector('#' + key + ' button');\n",
              "      quickchartButtonEl.disabled = true;  // To prevent multiple clicks.\n",
              "      quickchartButtonEl.classList.add('colab-df-spinner');\n",
              "      try {\n",
              "        const charts = await google.colab.kernel.invokeFunction(\n",
              "            'suggestCharts', [key], {});\n",
              "      } catch (error) {\n",
              "        console.error('Error during call to suggestCharts:', error);\n",
              "      }\n",
              "      quickchartButtonEl.classList.remove('colab-df-spinner');\n",
              "      quickchartButtonEl.classList.add('colab-df-quickchart-complete');\n",
              "    }\n",
              "    (() => {\n",
              "      let quickchartButtonEl =\n",
              "        document.querySelector('#df-ebfb7dbb-5b5a-4399-abc3-a971518859dd button');\n",
              "      quickchartButtonEl.style.display =\n",
              "        google.colab.kernel.accessAllowed ? 'block' : 'none';\n",
              "    })();\n",
              "  </script>\n",
              "</div>\n",
              "\n",
              "  <div id=\"id_ad723d96-1c66-464a-96b3-80cd6d565178\">\n",
              "    <style>\n",
              "      .colab-df-generate {\n",
              "        background-color: #E8F0FE;\n",
              "        border: none;\n",
              "        border-radius: 50%;\n",
              "        cursor: pointer;\n",
              "        display: none;\n",
              "        fill: #1967D2;\n",
              "        height: 32px;\n",
              "        padding: 0 0 0 0;\n",
              "        width: 32px;\n",
              "      }\n",
              "\n",
              "      .colab-df-generate:hover {\n",
              "        background-color: #E2EBFA;\n",
              "        box-shadow: 0px 1px 2px rgba(60, 64, 67, 0.3), 0px 1px 3px 1px rgba(60, 64, 67, 0.15);\n",
              "        fill: #174EA6;\n",
              "      }\n",
              "\n",
              "      [theme=dark] .colab-df-generate {\n",
              "        background-color: #3B4455;\n",
              "        fill: #D2E3FC;\n",
              "      }\n",
              "\n",
              "      [theme=dark] .colab-df-generate:hover {\n",
              "        background-color: #434B5C;\n",
              "        box-shadow: 0px 1px 3px 1px rgba(0, 0, 0, 0.15);\n",
              "        filter: drop-shadow(0px 1px 2px rgba(0, 0, 0, 0.3));\n",
              "        fill: #FFFFFF;\n",
              "      }\n",
              "    </style>\n",
              "    <button class=\"colab-df-generate\" onclick=\"generateWithVariable('data')\"\n",
              "            title=\"Generate code using this dataframe.\"\n",
              "            style=\"display:none;\">\n",
              "\n",
              "  <svg xmlns=\"http://www.w3.org/2000/svg\" height=\"24px\"viewBox=\"0 0 24 24\"\n",
              "       width=\"24px\">\n",
              "    <path d=\"M7,19H8.4L18.45,9,17,7.55,7,17.6ZM5,21V16.75L18.45,3.32a2,2,0,0,1,2.83,0l1.4,1.43a1.91,1.91,0,0,1,.58,1.4,1.91,1.91,0,0,1-.58,1.4L9.25,21ZM18.45,9,17,7.55Zm-12,3A5.31,5.31,0,0,0,4.9,8.1,5.31,5.31,0,0,0,1,6.5,5.31,5.31,0,0,0,4.9,4.9,5.31,5.31,0,0,0,6.5,1,5.31,5.31,0,0,0,8.1,4.9,5.31,5.31,0,0,0,12,6.5,5.46,5.46,0,0,0,6.5,12Z\"/>\n",
              "  </svg>\n",
              "    </button>\n",
              "    <script>\n",
              "      (() => {\n",
              "      const buttonEl =\n",
              "        document.querySelector('#id_ad723d96-1c66-464a-96b3-80cd6d565178 button.colab-df-generate');\n",
              "      buttonEl.style.display =\n",
              "        google.colab.kernel.accessAllowed ? 'block' : 'none';\n",
              "\n",
              "      buttonEl.onclick = () => {\n",
              "        google.colab.notebook.generateWithVariable('data');\n",
              "      }\n",
              "      })();\n",
              "    </script>\n",
              "  </div>\n",
              "\n",
              "    </div>\n",
              "  </div>\n"
            ],
            "application/vnd.google.colaboratory.intrinsic+json": {
              "type": "dataframe",
              "variable_name": "data",
              "summary": "{\n  \"name\": \"data\",\n  \"rows\": 1000,\n  \"fields\": [\n    {\n      \"column\": \"Transaction ID\",\n      \"properties\": {\n        \"dtype\": \"number\",\n        \"std\": 288,\n        \"min\": 1,\n        \"max\": 1000,\n        \"num_unique_values\": 1000,\n        \"samples\": [\n          522,\n          738,\n          741\n        ],\n        \"semantic_type\": \"\",\n        \"description\": \"\"\n      }\n    },\n    {\n      \"column\": \"Date\",\n      \"properties\": {\n        \"dtype\": \"object\",\n        \"num_unique_values\": 345,\n        \"samples\": [\n          \"2023-04-04\",\n          \"2023-04-13\",\n          \"2023-04-15\"\n        ],\n        \"semantic_type\": \"\",\n        \"description\": \"\"\n      }\n    },\n    {\n      \"column\": \"Customer ID\",\n      \"properties\": {\n        \"dtype\": \"string\",\n        \"num_unique_values\": 1000,\n        \"samples\": [\n          \"CUST522\",\n          \"CUST738\",\n          \"CUST741\"\n        ],\n        \"semantic_type\": \"\",\n        \"description\": \"\"\n      }\n    },\n    {\n      \"column\": \"Gender\",\n      \"properties\": {\n        \"dtype\": \"category\",\n        \"num_unique_values\": 2,\n        \"samples\": [\n          \"Female\",\n          \"Male\"\n        ],\n        \"semantic_type\": \"\",\n        \"description\": \"\"\n      }\n    },\n    {\n      \"column\": \"Age\",\n      \"properties\": {\n        \"dtype\": \"number\",\n        \"std\": 13,\n        \"min\": 18,\n        \"max\": 64,\n        \"num_unique_values\": 47,\n        \"samples\": [\n          48,\n          61\n        ],\n        \"semantic_type\": \"\",\n        \"description\": \"\"\n      }\n    },\n    {\n      \"column\": \"Product Category\",\n      \"properties\": {\n        \"dtype\": \"category\",\n        \"num_unique_values\": 3,\n        \"samples\": [\n          \"Beauty\",\n          \"Clothing\"\n        ],\n        \"semantic_type\": \"\",\n        \"description\": \"\"\n      }\n    },\n    {\n      \"column\": \"Quantity\",\n      \"properties\": {\n        \"dtype\": \"number\",\n        \"std\": 1,\n        \"min\": 1,\n        \"max\": 4,\n        \"num_unique_values\": 4,\n        \"samples\": [\n          2,\n          4\n        ],\n        \"semantic_type\": \"\",\n        \"description\": \"\"\n      }\n    },\n    {\n      \"column\": \"Price per Unit\",\n      \"properties\": {\n        \"dtype\": \"number\",\n        \"std\": 189,\n        \"min\": 25,\n        \"max\": 500,\n        \"num_unique_values\": 5,\n        \"samples\": [\n          500,\n          300\n        ],\n        \"semantic_type\": \"\",\n        \"description\": \"\"\n      }\n    },\n    {\n      \"column\": \"Total Amount\",\n      \"properties\": {\n        \"dtype\": \"number\",\n        \"std\": 559,\n        \"min\": 25,\n        \"max\": 2000,\n        \"num_unique_values\": 18,\n        \"samples\": [\n          150,\n          1000\n        ],\n        \"semantic_type\": \"\",\n        \"description\": \"\"\n      }\n    }\n  ]\n}"
            }
          },
          "metadata": {},
          "execution_count": 13
        }
      ]
    },
    {
      "cell_type": "code",
      "source": [
        "# Hacer una copia del Df original\n",
        "df = data.copy()"
      ],
      "metadata": {
        "id": "kGdJScPtS1a4"
      },
      "execution_count": 33,
      "outputs": []
    },
    {
      "cell_type": "markdown",
      "source": [
        "\n",
        "\n",
        "> Copia de Dataframe para mantener el original si modificaciones\n",
        "\n"
      ],
      "metadata": {
        "id": "SA5yT8JPO6We"
      }
    },
    {
      "cell_type": "code",
      "source": [
        "# Informacion de Dataframe\n",
        "df.info()"
      ],
      "metadata": {
        "colab": {
          "base_uri": "https://localhost:8080/"
        },
        "id": "i7Wj2VlISMm-",
        "outputId": "def21ef5-bba2-4c2b-ca59-68b8e6f613e9"
      },
      "execution_count": 34,
      "outputs": [
        {
          "output_type": "stream",
          "name": "stdout",
          "text": [
            "<class 'pandas.core.frame.DataFrame'>\n",
            "RangeIndex: 1000 entries, 0 to 999\n",
            "Data columns (total 9 columns):\n",
            " #   Column            Non-Null Count  Dtype \n",
            "---  ------            --------------  ----- \n",
            " 0   Transaction ID    1000 non-null   int64 \n",
            " 1   Date              1000 non-null   object\n",
            " 2   Customer ID       1000 non-null   object\n",
            " 3   Gender            1000 non-null   object\n",
            " 4   Age               1000 non-null   int64 \n",
            " 5   Product Category  1000 non-null   object\n",
            " 6   Quantity          1000 non-null   int64 \n",
            " 7   Price per Unit    1000 non-null   int64 \n",
            " 8   Total Amount      1000 non-null   int64 \n",
            "dtypes: int64(5), object(4)\n",
            "memory usage: 70.4+ KB\n"
          ]
        }
      ]
    },
    {
      "cell_type": "code",
      "source": [
        "# Visualizar valos nulos\n",
        "df.isnull().sum()"
      ],
      "metadata": {
        "colab": {
          "base_uri": "https://localhost:8080/",
          "height": 366
        },
        "id": "0IJF3kzBSXhk",
        "outputId": "d86d9a79-acc9-4f7f-ba23-97326202ecd3"
      },
      "execution_count": 35,
      "outputs": [
        {
          "output_type": "execute_result",
          "data": {
            "text/plain": [
              "Transaction ID      0\n",
              "Date                0\n",
              "Customer ID         0\n",
              "Gender              0\n",
              "Age                 0\n",
              "Product Category    0\n",
              "Quantity            0\n",
              "Price per Unit      0\n",
              "Total Amount        0\n",
              "dtype: int64"
            ],
            "text/html": [
              "<div>\n",
              "<style scoped>\n",
              "    .dataframe tbody tr th:only-of-type {\n",
              "        vertical-align: middle;\n",
              "    }\n",
              "\n",
              "    .dataframe tbody tr th {\n",
              "        vertical-align: top;\n",
              "    }\n",
              "\n",
              "    .dataframe thead th {\n",
              "        text-align: right;\n",
              "    }\n",
              "</style>\n",
              "<table border=\"1\" class=\"dataframe\">\n",
              "  <thead>\n",
              "    <tr style=\"text-align: right;\">\n",
              "      <th></th>\n",
              "      <th>0</th>\n",
              "    </tr>\n",
              "  </thead>\n",
              "  <tbody>\n",
              "    <tr>\n",
              "      <th>Transaction ID</th>\n",
              "      <td>0</td>\n",
              "    </tr>\n",
              "    <tr>\n",
              "      <th>Date</th>\n",
              "      <td>0</td>\n",
              "    </tr>\n",
              "    <tr>\n",
              "      <th>Customer ID</th>\n",
              "      <td>0</td>\n",
              "    </tr>\n",
              "    <tr>\n",
              "      <th>Gender</th>\n",
              "      <td>0</td>\n",
              "    </tr>\n",
              "    <tr>\n",
              "      <th>Age</th>\n",
              "      <td>0</td>\n",
              "    </tr>\n",
              "    <tr>\n",
              "      <th>Product Category</th>\n",
              "      <td>0</td>\n",
              "    </tr>\n",
              "    <tr>\n",
              "      <th>Quantity</th>\n",
              "      <td>0</td>\n",
              "    </tr>\n",
              "    <tr>\n",
              "      <th>Price per Unit</th>\n",
              "      <td>0</td>\n",
              "    </tr>\n",
              "    <tr>\n",
              "      <th>Total Amount</th>\n",
              "      <td>0</td>\n",
              "    </tr>\n",
              "  </tbody>\n",
              "</table>\n",
              "</div><br><label><b>dtype:</b> int64</label>"
            ]
          },
          "metadata": {},
          "execution_count": 35
        }
      ]
    },
    {
      "cell_type": "code",
      "source": [
        "# Contar valores únicos de cada columna\n",
        "df.nunique()"
      ],
      "metadata": {
        "colab": {
          "base_uri": "https://localhost:8080/",
          "height": 366
        },
        "id": "9Fs7hHiTVZux",
        "outputId": "39d11799-4c4d-421e-d611-1ed7f49eb60a"
      },
      "execution_count": 36,
      "outputs": [
        {
          "output_type": "execute_result",
          "data": {
            "text/plain": [
              "Transaction ID      1000\n",
              "Date                 345\n",
              "Customer ID         1000\n",
              "Gender                 2\n",
              "Age                   47\n",
              "Product Category       3\n",
              "Quantity               4\n",
              "Price per Unit         5\n",
              "Total Amount          18\n",
              "dtype: int64"
            ],
            "text/html": [
              "<div>\n",
              "<style scoped>\n",
              "    .dataframe tbody tr th:only-of-type {\n",
              "        vertical-align: middle;\n",
              "    }\n",
              "\n",
              "    .dataframe tbody tr th {\n",
              "        vertical-align: top;\n",
              "    }\n",
              "\n",
              "    .dataframe thead th {\n",
              "        text-align: right;\n",
              "    }\n",
              "</style>\n",
              "<table border=\"1\" class=\"dataframe\">\n",
              "  <thead>\n",
              "    <tr style=\"text-align: right;\">\n",
              "      <th></th>\n",
              "      <th>0</th>\n",
              "    </tr>\n",
              "  </thead>\n",
              "  <tbody>\n",
              "    <tr>\n",
              "      <th>Transaction ID</th>\n",
              "      <td>1000</td>\n",
              "    </tr>\n",
              "    <tr>\n",
              "      <th>Date</th>\n",
              "      <td>345</td>\n",
              "    </tr>\n",
              "    <tr>\n",
              "      <th>Customer ID</th>\n",
              "      <td>1000</td>\n",
              "    </tr>\n",
              "    <tr>\n",
              "      <th>Gender</th>\n",
              "      <td>2</td>\n",
              "    </tr>\n",
              "    <tr>\n",
              "      <th>Age</th>\n",
              "      <td>47</td>\n",
              "    </tr>\n",
              "    <tr>\n",
              "      <th>Product Category</th>\n",
              "      <td>3</td>\n",
              "    </tr>\n",
              "    <tr>\n",
              "      <th>Quantity</th>\n",
              "      <td>4</td>\n",
              "    </tr>\n",
              "    <tr>\n",
              "      <th>Price per Unit</th>\n",
              "      <td>5</td>\n",
              "    </tr>\n",
              "    <tr>\n",
              "      <th>Total Amount</th>\n",
              "      <td>18</td>\n",
              "    </tr>\n",
              "  </tbody>\n",
              "</table>\n",
              "</div><br><label><b>dtype:</b> int64</label>"
            ]
          },
          "metadata": {},
          "execution_count": 36
        }
      ]
    },
    {
      "cell_type": "code",
      "source": [
        "# Eliminar las columnas de ID\n",
        "df = df.drop(columns=['Transaction ID', 'Customer ID'])"
      ],
      "metadata": {
        "id": "5ZbKjjpL6D9B"
      },
      "execution_count": 37,
      "outputs": []
    },
    {
      "cell_type": "markdown",
      "source": [
        "\n",
        "\n",
        "> Eliminamos las columnas Transation ID y Customer ID ya que son números secuenciales el cual no representa datos relevantes y no permite determinar si tenemos datos duplicados.\n",
        "\n"
      ],
      "metadata": {
        "id": "Pq5xP6ZkPTe4"
      }
    },
    {
      "cell_type": "code",
      "source": [
        "# Valores duplicados\n",
        "print(f\"Cantidad de datos duplicados: {df.duplicated().sum()}\")"
      ],
      "metadata": {
        "colab": {
          "base_uri": "https://localhost:8080/"
        },
        "id": "K6ODwJN2YZEg",
        "outputId": "df1d77d6-ed69-4eec-fc20-2b19ecd52302"
      },
      "execution_count": 38,
      "outputs": [
        {
          "output_type": "stream",
          "name": "stdout",
          "text": [
            "Cantidad de datos duplicados: 0\n"
          ]
        }
      ]
    },
    {
      "cell_type": "code",
      "source": [
        "# Eliminar datos duplicados\n",
        "df = df.drop_duplicates()\n",
        "print(f\"Cantidad de datos duplicados: {df.duplicated().sum()}\")"
      ],
      "metadata": {
        "id": "hnot0uaYaJen",
        "colab": {
          "base_uri": "https://localhost:8080/"
        },
        "outputId": "9db65810-da3d-4971-c5d5-d44e93fed7be"
      },
      "execution_count": 39,
      "outputs": [
        {
          "output_type": "stream",
          "name": "stdout",
          "text": [
            "Cantidad de datos duplicados: 0\n"
          ]
        }
      ]
    },
    {
      "cell_type": "markdown",
      "source": [
        "\n",
        "\n",
        "> En un principio no se observa valores duplicados, pero se procedió a la ejecución del código para garantizar el proceso y completar el requerimiento.\n",
        "\n"
      ],
      "metadata": {
        "id": "KFdGr7e5Wgo8"
      }
    },
    {
      "cell_type": "markdown",
      "source": [
        "# Verificación y ajuste de tipos de datos"
      ],
      "metadata": {
        "id": "gV2FCc99oUPt"
      }
    },
    {
      "cell_type": "code",
      "source": [
        "# Tipo de Columnas del DF\n",
        "df.dtypes"
      ],
      "metadata": {
        "colab": {
          "base_uri": "https://localhost:8080/",
          "height": 304
        },
        "id": "sYIG2oOFo0em",
        "outputId": "107cd403-9043-4bcd-be26-42074fdc6c39"
      },
      "execution_count": 40,
      "outputs": [
        {
          "output_type": "execute_result",
          "data": {
            "text/plain": [
              "Date                object\n",
              "Gender              object\n",
              "Age                  int64\n",
              "Product Category    object\n",
              "Quantity             int64\n",
              "Price per Unit       int64\n",
              "Total Amount         int64\n",
              "dtype: object"
            ],
            "text/html": [
              "<div>\n",
              "<style scoped>\n",
              "    .dataframe tbody tr th:only-of-type {\n",
              "        vertical-align: middle;\n",
              "    }\n",
              "\n",
              "    .dataframe tbody tr th {\n",
              "        vertical-align: top;\n",
              "    }\n",
              "\n",
              "    .dataframe thead th {\n",
              "        text-align: right;\n",
              "    }\n",
              "</style>\n",
              "<table border=\"1\" class=\"dataframe\">\n",
              "  <thead>\n",
              "    <tr style=\"text-align: right;\">\n",
              "      <th></th>\n",
              "      <th>0</th>\n",
              "    </tr>\n",
              "  </thead>\n",
              "  <tbody>\n",
              "    <tr>\n",
              "      <th>Date</th>\n",
              "      <td>object</td>\n",
              "    </tr>\n",
              "    <tr>\n",
              "      <th>Gender</th>\n",
              "      <td>object</td>\n",
              "    </tr>\n",
              "    <tr>\n",
              "      <th>Age</th>\n",
              "      <td>int64</td>\n",
              "    </tr>\n",
              "    <tr>\n",
              "      <th>Product Category</th>\n",
              "      <td>object</td>\n",
              "    </tr>\n",
              "    <tr>\n",
              "      <th>Quantity</th>\n",
              "      <td>int64</td>\n",
              "    </tr>\n",
              "    <tr>\n",
              "      <th>Price per Unit</th>\n",
              "      <td>int64</td>\n",
              "    </tr>\n",
              "    <tr>\n",
              "      <th>Total Amount</th>\n",
              "      <td>int64</td>\n",
              "    </tr>\n",
              "  </tbody>\n",
              "</table>\n",
              "</div><br><label><b>dtype:</b> object</label>"
            ]
          },
          "metadata": {},
          "execution_count": 40
        }
      ]
    },
    {
      "cell_type": "code",
      "source": [
        "# Conversión 'Date' en tipo fecha\n",
        "df['Date'] = pd.to_datetime(df['Date'])"
      ],
      "metadata": {
        "id": "HEyCV1wctOOX"
      },
      "execution_count": 41,
      "outputs": []
    },
    {
      "cell_type": "code",
      "source": [
        "# Tipos de datos por columnas\n",
        "categorical_columns = df.select_dtypes(include=['object', 'category']).columns\n",
        "numerical_columns = df.select_dtypes(include=['float64', 'int64']).columns\n",
        "date_columns = df.select_dtypes(include=['datetime64']).columns\n",
        "print(f\"Columnas categóricas: {categorical_columns}\")\n",
        "print(f\"Columnas numéricas: {numerical_columns}\")\n",
        "print(f\"Columnas de fecha: {date_columns}\")"
      ],
      "metadata": {
        "colab": {
          "base_uri": "https://localhost:8080/"
        },
        "id": "6R1zPrMluIKD",
        "outputId": "48488faf-1ef8-4f1c-ea57-029b0b481e51"
      },
      "execution_count": 42,
      "outputs": [
        {
          "output_type": "stream",
          "name": "stdout",
          "text": [
            "Columnas categóricas: Index(['Gender', 'Product Category'], dtype='object')\n",
            "Columnas numéricas: Index(['Age', 'Quantity', 'Price per Unit', 'Total Amount'], dtype='object')\n",
            "Columnas de fecha: Index(['Date'], dtype='object')\n"
          ]
        }
      ]
    },
    {
      "cell_type": "code",
      "source": [
        "# Cnvertir la categorical_columns a tipo category\n",
        "df[categorical_columns] = df[categorical_columns].astype('category')"
      ],
      "metadata": {
        "id": "GHOaz7hO7pxu"
      },
      "execution_count": 43,
      "outputs": []
    },
    {
      "cell_type": "code",
      "source": [
        "# Información de Dataframe\n",
        "df.info()"
      ],
      "metadata": {
        "colab": {
          "base_uri": "https://localhost:8080/"
        },
        "id": "0tyZ_aqk747v",
        "outputId": "5af12885-1a20-4213-9a69-42ecc23abc29"
      },
      "execution_count": 44,
      "outputs": [
        {
          "output_type": "stream",
          "name": "stdout",
          "text": [
            "<class 'pandas.core.frame.DataFrame'>\n",
            "RangeIndex: 1000 entries, 0 to 999\n",
            "Data columns (total 7 columns):\n",
            " #   Column            Non-Null Count  Dtype         \n",
            "---  ------            --------------  -----         \n",
            " 0   Date              1000 non-null   datetime64[ns]\n",
            " 1   Gender            1000 non-null   category      \n",
            " 2   Age               1000 non-null   int64         \n",
            " 3   Product Category  1000 non-null   category      \n",
            " 4   Quantity          1000 non-null   int64         \n",
            " 5   Price per Unit    1000 non-null   int64         \n",
            " 6   Total Amount      1000 non-null   int64         \n",
            "dtypes: category(2), datetime64[ns](1), int64(4)\n",
            "memory usage: 41.4 KB\n"
          ]
        }
      ]
    },
    {
      "cell_type": "markdown",
      "source": [
        "\n",
        "\n",
        "> Se aprecia que contamos con tres tipos de datos que son Date, Numerical, Categorical. Y se procedió a la conversión a sus formatos correspondientes.\n",
        "\n"
      ],
      "metadata": {
        "id": "NvwJc0-yXlgr"
      }
    },
    {
      "cell_type": "markdown",
      "source": [
        "# Corrección de inconsistencias en valores categóricos"
      ],
      "metadata": {
        "id": "LB8s-RSbrNVi"
      }
    },
    {
      "cell_type": "code",
      "source": [
        "# Verificación de valores únicos de columnas categoricas\n",
        "for col in categorical_columns:\n",
        "    print(f\"Valores únicos en la columna '{col}':\")\n",
        "    print(df[col].unique())\n",
        "    print()"
      ],
      "metadata": {
        "colab": {
          "base_uri": "https://localhost:8080/"
        },
        "id": "PeR8ZWOErctq",
        "outputId": "11adc17a-624e-4929-e07a-8db881b74ae3"
      },
      "execution_count": 45,
      "outputs": [
        {
          "output_type": "stream",
          "name": "stdout",
          "text": [
            "Valores únicos en la columna 'Gender':\n",
            "['Male', 'Female']\n",
            "Categories (2, object): ['Female', 'Male']\n",
            "\n",
            "Valores únicos en la columna 'Product Category':\n",
            "['Beauty', 'Clothing', 'Electronics']\n",
            "Categories (3, object): ['Beauty', 'Clothing', 'Electronics']\n",
            "\n"
          ]
        }
      ]
    },
    {
      "cell_type": "code",
      "source": [
        "# Conteo de distribución variable Categoricas\n",
        "for col in categorical_columns:\n",
        "    print(f\"Distribución de la columna '{col}':\")\n",
        "    print(df[col].value_counts())\n",
        "    print()"
      ],
      "metadata": {
        "colab": {
          "base_uri": "https://localhost:8080/"
        },
        "id": "p6B0_4kTv18c",
        "outputId": "5ac764bf-c5e3-4c1f-a9d6-aced1bb6ff50"
      },
      "execution_count": 46,
      "outputs": [
        {
          "output_type": "stream",
          "name": "stdout",
          "text": [
            "Distribución de la columna 'Gender':\n",
            "Gender\n",
            "Female    510\n",
            "Male      490\n",
            "Name: count, dtype: int64\n",
            "\n",
            "Distribución de la columna 'Product Category':\n",
            "Product Category\n",
            "Clothing       351\n",
            "Electronics    342\n",
            "Beauty         307\n",
            "Name: count, dtype: int64\n",
            "\n"
          ]
        }
      ]
    },
    {
      "cell_type": "markdown",
      "source": [
        "\n",
        "\n",
        "> Después de analizar las columnas categóricas visualizamos que no presenta inconsistencias en los valores y los datos están correctamente unificados.\n",
        "\n",
        "\n",
        "\n"
      ],
      "metadata": {
        "id": "tmlrg2zWklrc"
      }
    },
    {
      "cell_type": "markdown",
      "source": [
        "# Manejo de valores faltantes adecuadamente"
      ],
      "metadata": {
        "id": "662j5huCaw-E"
      }
    },
    {
      "cell_type": "code",
      "source": [
        "# Estadísticas descriptivas de las variables numéricas\n",
        "df.describe()"
      ],
      "metadata": {
        "colab": {
          "base_uri": "https://localhost:8080/",
          "height": 300
        },
        "id": "wNT0ynEga9Zi",
        "outputId": "f3a05c92-9a4d-478f-c0aa-3378d24201c1"
      },
      "execution_count": 48,
      "outputs": [
        {
          "output_type": "execute_result",
          "data": {
            "text/plain": [
              "                                Date         Age     Quantity  Price per Unit  \\\n",
              "count                           1000  1000.00000  1000.000000     1000.000000   \n",
              "mean   2023-07-03 00:25:55.200000256    41.39200     2.514000      179.890000   \n",
              "min              2023-01-01 00:00:00    18.00000     1.000000       25.000000   \n",
              "25%              2023-04-08 00:00:00    29.00000     1.000000       30.000000   \n",
              "50%              2023-06-29 12:00:00    42.00000     3.000000       50.000000   \n",
              "75%              2023-10-04 00:00:00    53.00000     4.000000      300.000000   \n",
              "max              2024-01-01 00:00:00    64.00000     4.000000      500.000000   \n",
              "std                              NaN    13.68143     1.132734      189.681356   \n",
              "\n",
              "       Total Amount  \n",
              "count   1000.000000  \n",
              "mean     456.000000  \n",
              "min       25.000000  \n",
              "25%       60.000000  \n",
              "50%      135.000000  \n",
              "75%      900.000000  \n",
              "max     2000.000000  \n",
              "std      559.997632  "
            ],
            "text/html": [
              "\n",
              "  <div id=\"df-2c72d923-cdd8-4028-bcfd-7da1c0548184\" class=\"colab-df-container\">\n",
              "    <div>\n",
              "<style scoped>\n",
              "    .dataframe tbody tr th:only-of-type {\n",
              "        vertical-align: middle;\n",
              "    }\n",
              "\n",
              "    .dataframe tbody tr th {\n",
              "        vertical-align: top;\n",
              "    }\n",
              "\n",
              "    .dataframe thead th {\n",
              "        text-align: right;\n",
              "    }\n",
              "</style>\n",
              "<table border=\"1\" class=\"dataframe\">\n",
              "  <thead>\n",
              "    <tr style=\"text-align: right;\">\n",
              "      <th></th>\n",
              "      <th>Date</th>\n",
              "      <th>Age</th>\n",
              "      <th>Quantity</th>\n",
              "      <th>Price per Unit</th>\n",
              "      <th>Total Amount</th>\n",
              "    </tr>\n",
              "  </thead>\n",
              "  <tbody>\n",
              "    <tr>\n",
              "      <th>count</th>\n",
              "      <td>1000</td>\n",
              "      <td>1000.00000</td>\n",
              "      <td>1000.000000</td>\n",
              "      <td>1000.000000</td>\n",
              "      <td>1000.000000</td>\n",
              "    </tr>\n",
              "    <tr>\n",
              "      <th>mean</th>\n",
              "      <td>2023-07-03 00:25:55.200000256</td>\n",
              "      <td>41.39200</td>\n",
              "      <td>2.514000</td>\n",
              "      <td>179.890000</td>\n",
              "      <td>456.000000</td>\n",
              "    </tr>\n",
              "    <tr>\n",
              "      <th>min</th>\n",
              "      <td>2023-01-01 00:00:00</td>\n",
              "      <td>18.00000</td>\n",
              "      <td>1.000000</td>\n",
              "      <td>25.000000</td>\n",
              "      <td>25.000000</td>\n",
              "    </tr>\n",
              "    <tr>\n",
              "      <th>25%</th>\n",
              "      <td>2023-04-08 00:00:00</td>\n",
              "      <td>29.00000</td>\n",
              "      <td>1.000000</td>\n",
              "      <td>30.000000</td>\n",
              "      <td>60.000000</td>\n",
              "    </tr>\n",
              "    <tr>\n",
              "      <th>50%</th>\n",
              "      <td>2023-06-29 12:00:00</td>\n",
              "      <td>42.00000</td>\n",
              "      <td>3.000000</td>\n",
              "      <td>50.000000</td>\n",
              "      <td>135.000000</td>\n",
              "    </tr>\n",
              "    <tr>\n",
              "      <th>75%</th>\n",
              "      <td>2023-10-04 00:00:00</td>\n",
              "      <td>53.00000</td>\n",
              "      <td>4.000000</td>\n",
              "      <td>300.000000</td>\n",
              "      <td>900.000000</td>\n",
              "    </tr>\n",
              "    <tr>\n",
              "      <th>max</th>\n",
              "      <td>2024-01-01 00:00:00</td>\n",
              "      <td>64.00000</td>\n",
              "      <td>4.000000</td>\n",
              "      <td>500.000000</td>\n",
              "      <td>2000.000000</td>\n",
              "    </tr>\n",
              "    <tr>\n",
              "      <th>std</th>\n",
              "      <td>NaN</td>\n",
              "      <td>13.68143</td>\n",
              "      <td>1.132734</td>\n",
              "      <td>189.681356</td>\n",
              "      <td>559.997632</td>\n",
              "    </tr>\n",
              "  </tbody>\n",
              "</table>\n",
              "</div>\n",
              "    <div class=\"colab-df-buttons\">\n",
              "\n",
              "  <div class=\"colab-df-container\">\n",
              "    <button class=\"colab-df-convert\" onclick=\"convertToInteractive('df-2c72d923-cdd8-4028-bcfd-7da1c0548184')\"\n",
              "            title=\"Convert this dataframe to an interactive table.\"\n",
              "            style=\"display:none;\">\n",
              "\n",
              "  <svg xmlns=\"http://www.w3.org/2000/svg\" height=\"24px\" viewBox=\"0 -960 960 960\">\n",
              "    <path d=\"M120-120v-720h720v720H120Zm60-500h600v-160H180v160Zm220 220h160v-160H400v160Zm0 220h160v-160H400v160ZM180-400h160v-160H180v160Zm440 0h160v-160H620v160ZM180-180h160v-160H180v160Zm440 0h160v-160H620v160Z\"/>\n",
              "  </svg>\n",
              "    </button>\n",
              "\n",
              "  <style>\n",
              "    .colab-df-container {\n",
              "      display:flex;\n",
              "      gap: 12px;\n",
              "    }\n",
              "\n",
              "    .colab-df-convert {\n",
              "      background-color: #E8F0FE;\n",
              "      border: none;\n",
              "      border-radius: 50%;\n",
              "      cursor: pointer;\n",
              "      display: none;\n",
              "      fill: #1967D2;\n",
              "      height: 32px;\n",
              "      padding: 0 0 0 0;\n",
              "      width: 32px;\n",
              "    }\n",
              "\n",
              "    .colab-df-convert:hover {\n",
              "      background-color: #E2EBFA;\n",
              "      box-shadow: 0px 1px 2px rgba(60, 64, 67, 0.3), 0px 1px 3px 1px rgba(60, 64, 67, 0.15);\n",
              "      fill: #174EA6;\n",
              "    }\n",
              "\n",
              "    .colab-df-buttons div {\n",
              "      margin-bottom: 4px;\n",
              "    }\n",
              "\n",
              "    [theme=dark] .colab-df-convert {\n",
              "      background-color: #3B4455;\n",
              "      fill: #D2E3FC;\n",
              "    }\n",
              "\n",
              "    [theme=dark] .colab-df-convert:hover {\n",
              "      background-color: #434B5C;\n",
              "      box-shadow: 0px 1px 3px 1px rgba(0, 0, 0, 0.15);\n",
              "      filter: drop-shadow(0px 1px 2px rgba(0, 0, 0, 0.3));\n",
              "      fill: #FFFFFF;\n",
              "    }\n",
              "  </style>\n",
              "\n",
              "    <script>\n",
              "      const buttonEl =\n",
              "        document.querySelector('#df-2c72d923-cdd8-4028-bcfd-7da1c0548184 button.colab-df-convert');\n",
              "      buttonEl.style.display =\n",
              "        google.colab.kernel.accessAllowed ? 'block' : 'none';\n",
              "\n",
              "      async function convertToInteractive(key) {\n",
              "        const element = document.querySelector('#df-2c72d923-cdd8-4028-bcfd-7da1c0548184');\n",
              "        const dataTable =\n",
              "          await google.colab.kernel.invokeFunction('convertToInteractive',\n",
              "                                                    [key], {});\n",
              "        if (!dataTable) return;\n",
              "\n",
              "        const docLinkHtml = 'Like what you see? Visit the ' +\n",
              "          '<a target=\"_blank\" href=https://colab.research.google.com/notebooks/data_table.ipynb>data table notebook</a>'\n",
              "          + ' to learn more about interactive tables.';\n",
              "        element.innerHTML = '';\n",
              "        dataTable['output_type'] = 'display_data';\n",
              "        await google.colab.output.renderOutput(dataTable, element);\n",
              "        const docLink = document.createElement('div');\n",
              "        docLink.innerHTML = docLinkHtml;\n",
              "        element.appendChild(docLink);\n",
              "      }\n",
              "    </script>\n",
              "  </div>\n",
              "\n",
              "\n",
              "<div id=\"df-73a4648a-9744-43f9-b71a-370ac4d1eb83\">\n",
              "  <button class=\"colab-df-quickchart\" onclick=\"quickchart('df-73a4648a-9744-43f9-b71a-370ac4d1eb83')\"\n",
              "            title=\"Suggest charts\"\n",
              "            style=\"display:none;\">\n",
              "\n",
              "<svg xmlns=\"http://www.w3.org/2000/svg\" height=\"24px\"viewBox=\"0 0 24 24\"\n",
              "     width=\"24px\">\n",
              "    <g>\n",
              "        <path d=\"M19 3H5c-1.1 0-2 .9-2 2v14c0 1.1.9 2 2 2h14c1.1 0 2-.9 2-2V5c0-1.1-.9-2-2-2zM9 17H7v-7h2v7zm4 0h-2V7h2v10zm4 0h-2v-4h2v4z\"/>\n",
              "    </g>\n",
              "</svg>\n",
              "  </button>\n",
              "\n",
              "<style>\n",
              "  .colab-df-quickchart {\n",
              "      --bg-color: #E8F0FE;\n",
              "      --fill-color: #1967D2;\n",
              "      --hover-bg-color: #E2EBFA;\n",
              "      --hover-fill-color: #174EA6;\n",
              "      --disabled-fill-color: #AAA;\n",
              "      --disabled-bg-color: #DDD;\n",
              "  }\n",
              "\n",
              "  [theme=dark] .colab-df-quickchart {\n",
              "      --bg-color: #3B4455;\n",
              "      --fill-color: #D2E3FC;\n",
              "      --hover-bg-color: #434B5C;\n",
              "      --hover-fill-color: #FFFFFF;\n",
              "      --disabled-bg-color: #3B4455;\n",
              "      --disabled-fill-color: #666;\n",
              "  }\n",
              "\n",
              "  .colab-df-quickchart {\n",
              "    background-color: var(--bg-color);\n",
              "    border: none;\n",
              "    border-radius: 50%;\n",
              "    cursor: pointer;\n",
              "    display: none;\n",
              "    fill: var(--fill-color);\n",
              "    height: 32px;\n",
              "    padding: 0;\n",
              "    width: 32px;\n",
              "  }\n",
              "\n",
              "  .colab-df-quickchart:hover {\n",
              "    background-color: var(--hover-bg-color);\n",
              "    box-shadow: 0 1px 2px rgba(60, 64, 67, 0.3), 0 1px 3px 1px rgba(60, 64, 67, 0.15);\n",
              "    fill: var(--button-hover-fill-color);\n",
              "  }\n",
              "\n",
              "  .colab-df-quickchart-complete:disabled,\n",
              "  .colab-df-quickchart-complete:disabled:hover {\n",
              "    background-color: var(--disabled-bg-color);\n",
              "    fill: var(--disabled-fill-color);\n",
              "    box-shadow: none;\n",
              "  }\n",
              "\n",
              "  .colab-df-spinner {\n",
              "    border: 2px solid var(--fill-color);\n",
              "    border-color: transparent;\n",
              "    border-bottom-color: var(--fill-color);\n",
              "    animation:\n",
              "      spin 1s steps(1) infinite;\n",
              "  }\n",
              "\n",
              "  @keyframes spin {\n",
              "    0% {\n",
              "      border-color: transparent;\n",
              "      border-bottom-color: var(--fill-color);\n",
              "      border-left-color: var(--fill-color);\n",
              "    }\n",
              "    20% {\n",
              "      border-color: transparent;\n",
              "      border-left-color: var(--fill-color);\n",
              "      border-top-color: var(--fill-color);\n",
              "    }\n",
              "    30% {\n",
              "      border-color: transparent;\n",
              "      border-left-color: var(--fill-color);\n",
              "      border-top-color: var(--fill-color);\n",
              "      border-right-color: var(--fill-color);\n",
              "    }\n",
              "    40% {\n",
              "      border-color: transparent;\n",
              "      border-right-color: var(--fill-color);\n",
              "      border-top-color: var(--fill-color);\n",
              "    }\n",
              "    60% {\n",
              "      border-color: transparent;\n",
              "      border-right-color: var(--fill-color);\n",
              "    }\n",
              "    80% {\n",
              "      border-color: transparent;\n",
              "      border-right-color: var(--fill-color);\n",
              "      border-bottom-color: var(--fill-color);\n",
              "    }\n",
              "    90% {\n",
              "      border-color: transparent;\n",
              "      border-bottom-color: var(--fill-color);\n",
              "    }\n",
              "  }\n",
              "</style>\n",
              "\n",
              "  <script>\n",
              "    async function quickchart(key) {\n",
              "      const quickchartButtonEl =\n",
              "        document.querySelector('#' + key + ' button');\n",
              "      quickchartButtonEl.disabled = true;  // To prevent multiple clicks.\n",
              "      quickchartButtonEl.classList.add('colab-df-spinner');\n",
              "      try {\n",
              "        const charts = await google.colab.kernel.invokeFunction(\n",
              "            'suggestCharts', [key], {});\n",
              "      } catch (error) {\n",
              "        console.error('Error during call to suggestCharts:', error);\n",
              "      }\n",
              "      quickchartButtonEl.classList.remove('colab-df-spinner');\n",
              "      quickchartButtonEl.classList.add('colab-df-quickchart-complete');\n",
              "    }\n",
              "    (() => {\n",
              "      let quickchartButtonEl =\n",
              "        document.querySelector('#df-73a4648a-9744-43f9-b71a-370ac4d1eb83 button');\n",
              "      quickchartButtonEl.style.display =\n",
              "        google.colab.kernel.accessAllowed ? 'block' : 'none';\n",
              "    })();\n",
              "  </script>\n",
              "</div>\n",
              "\n",
              "    </div>\n",
              "  </div>\n"
            ],
            "application/vnd.google.colaboratory.intrinsic+json": {
              "type": "dataframe",
              "summary": "{\n  \"name\": \"df\",\n  \"rows\": 8,\n  \"fields\": [\n    {\n      \"column\": \"Date\",\n      \"properties\": {\n        \"dtype\": \"date\",\n        \"min\": \"1970-01-01 00:00:00.000001\",\n        \"max\": \"2024-01-01 00:00:00\",\n        \"num_unique_values\": 7,\n        \"samples\": [\n          \"1000\",\n          \"2023-07-03 00:25:55.200000256\",\n          \"2023-10-04 00:00:00\"\n        ],\n        \"semantic_type\": \"\",\n        \"description\": \"\"\n      }\n    },\n    {\n      \"column\": \"Age\",\n      \"properties\": {\n        \"dtype\": \"number\",\n        \"std\": 340.78610904107535,\n        \"min\": 13.681429659122532,\n        \"max\": 1000.0,\n        \"num_unique_values\": 8,\n        \"samples\": [\n          41.392,\n          53.0,\n          1000.0\n        ],\n        \"semantic_type\": \"\",\n        \"description\": \"\"\n      }\n    },\n    {\n      \"column\": \"Quantity\",\n      \"properties\": {\n        \"dtype\": \"number\",\n        \"std\": 352.71483432640656,\n        \"min\": 1.0,\n        \"max\": 1000.0,\n        \"num_unique_values\": 6,\n        \"samples\": [\n          1000.0,\n          2.514,\n          1.1327343409145405\n        ],\n        \"semantic_type\": \"\",\n        \"description\": \"\"\n      }\n    },\n    {\n      \"column\": \"Price per Unit\",\n      \"properties\": {\n        \"dtype\": \"number\",\n        \"std\": 330.7254087976672,\n        \"min\": 25.0,\n        \"max\": 1000.0,\n        \"num_unique_values\": 8,\n        \"samples\": [\n          179.89,\n          300.0,\n          1000.0\n        ],\n        \"semantic_type\": \"\",\n        \"description\": \"\"\n      }\n    },\n    {\n      \"column\": \"Total Amount\",\n      \"properties\": {\n        \"dtype\": \"number\",\n        \"std\": 660.8084213867855,\n        \"min\": 25.0,\n        \"max\": 2000.0,\n        \"num_unique_values\": 8,\n        \"samples\": [\n          456.0,\n          900.0,\n          1000.0\n        ],\n        \"semantic_type\": \"\",\n        \"description\": \"\"\n      }\n    }\n  ]\n}"
            }
          },
          "metadata": {},
          "execution_count": 48
        }
      ]
    },
    {
      "cell_type": "markdown",
      "source": [
        "\n",
        "\n",
        "> Anteriormente analizamos los valores categóricos, ahora lo valores numéricos también muestran resultados correcto, utilizando una estadística descriptiva de la misma de cada columna, como valores mínimos, máximo, estándar, etc. Y todos los datos están correctos no se aprecia valores faltantes.\n",
        "\n"
      ],
      "metadata": {
        "id": "qZh4xVr7enP5"
      }
    },
    {
      "cell_type": "markdown",
      "source": [
        "# Outliers"
      ],
      "metadata": {
        "id": "TcA3BhTpbSpH"
      }
    },
    {
      "cell_type": "code",
      "source": [
        "# Identificamos todas las columnas numéricas\n",
        "num_columns = df.select_dtypes(include=['float64', 'int64']).columns.tolist()\n",
        "\n",
        "# Función para identificar outliers usando IQR\n",
        "def identify_outliers_iqr(df, columns):\n",
        "    outlier_indices = []\n",
        "    for col in columns:\n",
        "        Q1 = df[col].quantile(0.25)\n",
        "        Q3 = df[col].quantile(0.75)\n",
        "        IQR = Q3 - Q1\n",
        "\n",
        "        # Definición de límites\n",
        "        lower_bound = Q1 - 1.5 * IQR\n",
        "        upper_bound = Q3 + 1.5 * IQR\n",
        "\n",
        "        # Identificación de outliers\n",
        "        outliers = df[(df[col] < lower_bound) | (df[col] > upper_bound)]\n",
        "        outlier_indices.extend(outliers.index.tolist())\n",
        "\n",
        "    return set(outlier_indices)\n",
        "\n",
        "# Identificando outliers en las variables numéricas\n",
        "outlier_indices = identify_outliers_iqr(df, num_columns)\n",
        "num_outliers = len(outlier_indices)\n",
        "num_data = len(df)\n",
        "\n",
        "print(f\"Número total de outliers identificados: {num_outliers}\")\n",
        "print(f\"Porcentaje de outliers: {(num_outliers / num_data) * 100:.2f}%\")"
      ],
      "metadata": {
        "colab": {
          "base_uri": "https://localhost:8080/"
        },
        "id": "JTMr4k9yTm0H",
        "outputId": "f9d298e2-72d1-49da-c0eb-065c0648ef60"
      },
      "execution_count": null,
      "outputs": [
        {
          "output_type": "stream",
          "name": "stdout",
          "text": [
            "Número total de outliers identificados: 0\n",
            "Porcentaje de outliers: 0.00%\n"
          ]
        }
      ]
    },
    {
      "cell_type": "code",
      "source": [
        "# Filtrar el DataFrame sin outliers\n",
        "df_no_outliers = df.drop(index=outlier_indices)\n",
        "print(f\"Tamaño del DataFrame con outliers: {df.shape}\")\n",
        "print(f\"Tamaño del DataFrame sin outliers: {df_no_outliers.shape}\")"
      ],
      "metadata": {
        "colab": {
          "base_uri": "https://localhost:8080/"
        },
        "id": "vfOPKyAqT-K2",
        "outputId": "527ca873-88c7-402b-e5f4-7e59266ff0b8"
      },
      "execution_count": null,
      "outputs": [
        {
          "output_type": "stream",
          "name": "stdout",
          "text": [
            "Tamaño del DataFrame con outliers: (1000, 7)\n",
            "Tamaño del DataFrame sin outliers: (1000, 7)\n"
          ]
        }
      ]
    },
    {
      "cell_type": "markdown",
      "source": [
        "----------------------------------------------\n",
        "# **Paso 2 - Exploración de Datos:**\n",
        "* **Visualizaciones univariadas y multivariadas:** Crea histogramas, gráficos de barras, diagramas de dispersión y mapas de calor para entender la distribución y las relaciones entre las variables.\n",
        "* **Estadísticas descriptivas:** Calcula medidas de tendencia central (media, mediana, moda) y de dispersión (rango, desviación estándar) para cada característica del dataset.\n",
        "----------------------------------------------"
      ],
      "metadata": {
        "id": "frWRrC_kCZCo"
      }
    },
    {
      "cell_type": "markdown",
      "source": [
        "# Visualizaciones univariadas y multivariadas"
      ],
      "metadata": {
        "id": "Q4nfTts4Upra"
      }
    },
    {
      "cell_type": "code",
      "source": [
        "# Contar combinaciones de Gender y Product Category\n",
        "gender_payment_counts = df.groupby(['Gender', 'Product Category'], observed=True).size().reset_index(name='Counts')\n",
        "\n",
        "# Preparar datos para el gráfico\n",
        "labels = [f\"{row['Gender']} - {row['Product Category']}\" for _, row in gender_payment_counts.iterrows()]\n",
        "sizes = gender_payment_counts['Counts']\n",
        "\n",
        "# Crear gráfico de pastel\n",
        "plt.figure(figsize=(8, 6))\n",
        "plt.pie(sizes, labels=labels, autopct='%.2f%%', startangle=140)\n",
        "plt.title('Distribución por Género y Categória de Producto')\n",
        "plt.show()"
      ],
      "metadata": {
        "colab": {
          "base_uri": "https://localhost:8080/",
          "height": 521
        },
        "id": "cLG-60qWaiBQ",
        "outputId": "0d10f9ae-a0e3-4b6f-a16c-5035670c817a"
      },
      "execution_count": 56,
      "outputs": [
        {
          "output_type": "display_data",
          "data": {
            "text/plain": [
              "<Figure size 800x600 with 1 Axes>"
            ],
            "image/png": "[encoded data removed]"
          },
          "metadata": {}
        }
      ]
    },
    {
      "cell_type": "markdown",
      "source": [
        "\n",
        "\n",
        "> El gráfico presentado es un gráfico de pastel que muestra la distribución porcentual de combinaciones de las categorías \"Gender\" (género) y \"Product Category\" (categoría de producto). En lineas generales las combinaciones están distribuidas de forma relativamente uniforme, con ligeras variaciones.El gráfico ayuda a identificar patrones en las preferencias de género por tipo de producto, siendo útil para análisis de marketing y ventas.\n",
        "\n"
      ],
      "metadata": {
        "id": "Z4bmdIq0hfRD"
      }
    },
    {
      "cell_type": "code",
      "source": [
        "# Histograma: Distribución de Monto total\n",
        "\n",
        "plt.figure(figsize=(12, 6))\n",
        "sns.histplot(df['Total Amount'], bins=20, kde=True, color='skyblue', edgecolor='black')\n",
        "plt.title('Distribución de la variable \"Total Amount\"', fontsize=14)\n",
        "plt.xlabel('Monto total', fontsize=12)\n",
        "plt.ylabel('Frecuencia', fontsize=12)\n",
        "plt.grid(True)\n",
        "plt.show()"
      ],
      "metadata": {
        "colab": {
          "base_uri": "https://localhost:8080/",
          "height": 569
        },
        "id": "k0jLpCOF38-X",
        "outputId": "8579234d-00af-4d78-a73c-b35ef3f6181b"
      },
      "execution_count": 58,
      "outputs": [
        {
          "output_type": "display_data",
          "data": {
            "text/plain": [
              "<Figure size 1200x600 with 1 Axes>"
            ],
            "image/png": "[encoded data removed]"
          },
          "metadata": {}
        }
      ]
    },
    {
      "cell_type": "markdown",
      "source": [
        "\n",
        "\n",
        "> El histograma que muestra la distribución de la variable \"Total Amount\" (Monto total). Se observa una alta frecuencia para montos cercanos a 0-250, indicando que la mayoría de las transacciones tienen montos bajos.La línea azul muestra la densidad estimada de la distribución, destacando la mayor concentración de datos en los valores bajos.Esto podría ser útil para estrategias de análisis financiero\n",
        "\n"
      ],
      "metadata": {
        "id": "MKG7135EioXB"
      }
    },
    {
      "cell_type": "code",
      "source": [
        "# Gráficos de barras: Distribución de Monto total\n",
        "\n",
        "plt.figure(figsize=(12, 6))\n",
        "sns.countplot(x='Total Amount', data=df, color='skyblue', edgecolor='black')\n",
        "plt.title('Distribución de la variable \"Total Amount\"')\n",
        "plt.xlabel('Monto total')\n",
        "plt.ylabel('Contador')\n",
        "plt.show()"
      ],
      "metadata": {
        "colab": {
          "base_uri": "https://localhost:8080/",
          "height": 564
        },
        "id": "rmvM-iofKho4",
        "outputId": "57c39079-6dad-44db-f6e8-c5c84b11514e"
      },
      "execution_count": 59,
      "outputs": [
        {
          "output_type": "display_data",
          "data": {
            "text/plain": [
              "<Figure size 1200x600 with 1 Axes>"
            ],
            "image/png": "[encoded data removed]"
          },
          "metadata": {}
        }
      ]
    },
    {
      "cell_type": "markdown",
      "source": [
        "\n",
        "\n",
        "> En el gráfico de Barra analizamos nuevamente el \"Total Amount\" para ver la distribución cada una de las variantes de monto y la cantidad de transacción en cada valor. Se observa una alta frecuencia para montos bajos pero todo muy uniforme sin contar el monto 50 y 100 los cuales tienen cantidades de transacción más altos que los demás montos.\n",
        "\n"
      ],
      "metadata": {
        "id": "_Vmf2jD2k_ji"
      }
    },
    {
      "cell_type": "code",
      "source": [
        "# Diagramas de dispersión de Fecha vs. Monto total por Categoría de Producto\n",
        "\n",
        "plt.figure(figsize=(12, 6))\n",
        "sns.scatterplot(x='Date', y='Total Amount', hue='Product Category', data=df, palette='viridis')\n",
        "plt.title('Diagrama de dispersión de Fecha vs. Monto total por Categoría de Producto')\n",
        "plt.xlabel('Fecha')\n",
        "plt.ylabel('Monto total')\n",
        "plt.tick_params(axis='x', rotation=45)\n",
        "plt.show()"
      ],
      "metadata": {
        "colab": {
          "base_uri": "https://localhost:8080/",
          "height": 601
        },
        "id": "m6V5tkR4La_-",
        "outputId": "f39f3dd6-40cb-4c52-eb13-dc698f477c8b"
      },
      "execution_count": 60,
      "outputs": [
        {
          "output_type": "display_data",
          "data": {
            "text/plain": [
              "<Figure size 1200x600 with 1 Axes>"
            ],
            "image/png": "[encoded data removed]"
          },
          "metadata": {}
        }
      ]
    },
    {
      "cell_type": "markdown",
      "source": [
        "\n",
        "\n",
        "> Se puede observar si hay alguna tendencia en cómo el Monto Total de ventas varía a lo largo del tiempo de análisis y Categoría de Producto. La dispersión de los puntos puede indicar la tendencia de venta en montos más bajos a lo largo del tiempo.\n"
      ],
      "metadata": {
        "id": "htbmdDijnWoD"
      }
    },
    {
      "cell_type": "code",
      "source": [
        "# Detectar outliers con boxplots para variables numéricas\n",
        "\n",
        "plt.figure(figsize=(10, 15))\n",
        "for i, col in enumerate(df[numerical_columns], start=1):\n",
        "    plt.subplot(3, 2, i)\n",
        "    sns.boxplot(y=col, data=df)\n",
        "    plt.title(f'Boxplot de {col}')\n",
        "    plt.ylabel(col)\n",
        "plt.tight_layout()\n",
        "plt.show()"
      ],
      "metadata": {
        "colab": {
          "base_uri": "https://localhost:8080/",
          "height": 1000
        },
        "id": "GHNW60HwT_5v",
        "outputId": "8d444dc0-690a-4c12-9085-88e1263cdff4"
      },
      "execution_count": 61,
      "outputs": [
        {
          "output_type": "display_data",
          "data": {
            "text/plain": [
              "<Figure size 1000x1500 with 4 Axes>"
            ],
            "image/png": "[encoded data removed]"
          },
          "metadata": {}
        }
      ]
    },
    {
      "cell_type": "markdown",
      "source": [
        "\n",
        "\n",
        "> Gráfico de Boxplot de valores numéricos.\n",
        "* **Boxplot de Age:** Este gráfico muestra la distribución de los valores de edad. Una distribución bastante simétrica sin datos atípicos.\n",
        "* **Boxplot de Quantity:** Este gráfico muestra la distribución de los valores de cantidad. Al igual que en el boxplot de edad, la caja central representa los valores centrales, la línea horizontal es la mediana.\n",
        "* **Boxplot de Price per Unit:** Este gráfico muestra la distribución de los valores de precio por unidad. Sigue la misma interpretación que los boxplots anteriores, solo que la media está muy debajo y el bigote superior muy pronunciado.\n",
        "* **Boxplot de Total Amount:** Este gráfico muestra la distribución de los valores de monto total. Nuevamente, la caja central representa los valores centrales, la línea horizontal es la mediana, y los bigotes se extienden a los valores mínimo y máximo.\n",
        "\n",
        "\n"
      ],
      "metadata": {
        "id": "0A3YO3mXp5xE"
      }
    },
    {
      "cell_type": "code",
      "source": [
        "# Correlación de los datos numéricos\n",
        "\n",
        "correlation_matrix = df[numerical_columns].corr()\n",
        "#print(correlation_matrix)\n",
        "\n",
        "# Mapa de calor de la matriz de correlación\n",
        "plt.figure(figsize=(10, 8))\n",
        "sns.heatmap(correlation_matrix, annot=True, cmap='coolwarm', center=0, fmt=\".2f\")\n",
        "plt.title('Matriz de Correlación entre Variables Numéricas')\n",
        "plt.show()"
      ],
      "metadata": {
        "colab": {
          "base_uri": "https://localhost:8080/",
          "height": 699
        },
        "id": "9QjXtDj3aCRg",
        "outputId": "94b80b5f-6d01-401e-d505-3ae83e6e1d68"
      },
      "execution_count": 62,
      "outputs": [
        {
          "output_type": "display_data",
          "data": {
            "text/plain": [
              "<Figure size 1000x800 with 2 Axes>"
            ],
            "image/png": "[encoded data removed]"
          },
          "metadata": {}
        }
      ]
    },
    {
      "cell_type": "markdown",
      "source": [
        "\n",
        "\n",
        "> Los colores más oscuros indican correlaciones positivas fuertes, y colores más claros indican correlaciones negativas fuertes. Tenemos datos superior al 0.5 que indica fuerte correlación positiva y datos inferiores a 0.5 que indica fuerte correlación negativa eje: Price per Unit (Positivo) y Age (Negativo)\n",
        "\n"
      ],
      "metadata": {
        "id": "jwTS5TRKr-mM"
      }
    },
    {
      "cell_type": "markdown",
      "source": [
        "# Estadísticas descriptivas"
      ],
      "metadata": {
        "id": "0AD8MlXKtJG6"
      }
    },
    {
      "cell_type": "code",
      "source": [
        "# Estadísticas descriptivas de las variables numéricas\n",
        "df.describe()"
      ],
      "metadata": {
        "colab": {
          "base_uri": "https://localhost:8080/",
          "height": 300
        },
        "id": "NOg5HTvitLvq",
        "outputId": "fb38c86b-f9da-48d6-9efb-63a4681b6894"
      },
      "execution_count": 63,
      "outputs": [
        {
          "output_type": "execute_result",
          "data": {
            "text/plain": [
              "                                Date         Age     Quantity  Price per Unit  \\\n",
              "count                           1000  1000.00000  1000.000000     1000.000000   \n",
              "mean   2023-07-03 00:25:55.200000256    41.39200     2.514000      179.890000   \n",
              "min              2023-01-01 00:00:00    18.00000     1.000000       25.000000   \n",
              "25%              2023-04-08 00:00:00    29.00000     1.000000       30.000000   \n",
              "50%              2023-06-29 12:00:00    42.00000     3.000000       50.000000   \n",
              "75%              2023-10-04 00:00:00    53.00000     4.000000      300.000000   \n",
              "max              2024-01-01 00:00:00    64.00000     4.000000      500.000000   \n",
              "std                              NaN    13.68143     1.132734      189.681356   \n",
              "\n",
              "       Total Amount  \n",
              "count   1000.000000  \n",
              "mean     456.000000  \n",
              "min       25.000000  \n",
              "25%       60.000000  \n",
              "50%      135.000000  \n",
              "75%      900.000000  \n",
              "max     2000.000000  \n",
              "std      559.997632  "
            ],
            "text/html": [
              "\n",
              "  <div id=\"df-e640c8a5-1c08-407f-8a5e-292706bf45e9\" class=\"colab-df-container\">\n",
              "    <div>\n",
              "<style scoped>\n",
              "    .dataframe tbody tr th:only-of-type {\n",
              "        vertical-align: middle;\n",
              "    }\n",
              "\n",
              "    .dataframe tbody tr th {\n",
              "        vertical-align: top;\n",
              "    }\n",
              "\n",
              "    .dataframe thead th {\n",
              "        text-align: right;\n",
              "    }\n",
              "</style>\n",
              "<table border=\"1\" class=\"dataframe\">\n",
              "  <thead>\n",
              "    <tr style=\"text-align: right;\">\n",
              "      <th></th>\n",
              "      <th>Date</th>\n",
              "      <th>Age</th>\n",
              "      <th>Quantity</th>\n",
              "      <th>Price per Unit</th>\n",
              "      <th>Total Amount</th>\n",
              "    </tr>\n",
              "  </thead>\n",
              "  <tbody>\n",
              "    <tr>\n",
              "      <th>count</th>\n",
              "      <td>1000</td>\n",
              "      <td>1000.00000</td>\n",
              "      <td>1000.000000</td>\n",
              "      <td>1000.000000</td>\n",
              "      <td>1000.000000</td>\n",
              "    </tr>\n",
              "    <tr>\n",
              "      <th>mean</th>\n",
              "      <td>2023-07-03 00:25:55.200000256</td>\n",
              "      <td>41.39200</td>\n",
              "      <td>2.514000</td>\n",
              "      <td>179.890000</td>\n",
              "      <td>456.000000</td>\n",
              "    </tr>\n",
              "    <tr>\n",
              "      <th>min</th>\n",
              "      <td>2023-01-01 00:00:00</td>\n",
              "      <td>18.00000</td>\n",
              "      <td>1.000000</td>\n",
              "      <td>25.000000</td>\n",
              "      <td>25.000000</td>\n",
              "    </tr>\n",
              "    <tr>\n",
              "      <th>25%</th>\n",
              "      <td>2023-04-08 00:00:00</td>\n",
              "      <td>29.00000</td>\n",
              "      <td>1.000000</td>\n",
              "      <td>30.000000</td>\n",
              "      <td>60.000000</td>\n",
              "    </tr>\n",
              "    <tr>\n",
              "      <th>50%</th>\n",
              "      <td>2023-06-29 12:00:00</td>\n",
              "      <td>42.00000</td>\n",
              "      <td>3.000000</td>\n",
              "      <td>50.000000</td>\n",
              "      <td>135.000000</td>\n",
              "    </tr>\n",
              "    <tr>\n",
              "      <th>75%</th>\n",
              "      <td>2023-10-04 00:00:00</td>\n",
              "      <td>53.00000</td>\n",
              "      <td>4.000000</td>\n",
              "      <td>300.000000</td>\n",
              "      <td>900.000000</td>\n",
              "    </tr>\n",
              "    <tr>\n",
              "      <th>max</th>\n",
              "      <td>2024-01-01 00:00:00</td>\n",
              "      <td>64.00000</td>\n",
              "      <td>4.000000</td>\n",
              "      <td>500.000000</td>\n",
              "      <td>2000.000000</td>\n",
              "    </tr>\n",
              "    <tr>\n",
              "      <th>std</th>\n",
              "      <td>NaN</td>\n",
              "      <td>13.68143</td>\n",
              "      <td>1.132734</td>\n",
              "      <td>189.681356</td>\n",
              "      <td>559.997632</td>\n",
              "    </tr>\n",
              "  </tbody>\n",
              "</table>\n",
              "</div>\n",
              "    <div class=\"colab-df-buttons\">\n",
              "\n",
              "  <div class=\"colab-df-container\">\n",
              "    <button class=\"colab-df-convert\" onclick=\"convertToInteractive('df-e640c8a5-1c08-407f-8a5e-292706bf45e9')\"\n",
              "            title=\"Convert this dataframe to an interactive table.\"\n",
              "            style=\"display:none;\">\n",
              "\n",
              "  <svg xmlns=\"http://www.w3.org/2000/svg\" height=\"24px\" viewBox=\"0 -960 960 960\">\n",
              "    <path d=\"M120-120v-720h720v720H120Zm60-500h600v-160H180v160Zm220 220h160v-160H400v160Zm0 220h160v-160H400v160ZM180-400h160v-160H180v160Zm440 0h160v-160H620v160ZM180-180h160v-160H180v160Zm440 0h160v-160H620v160Z\"/>\n",
              "  </svg>\n",
              "    </button>\n",
              "\n",
              "  <style>\n",
              "    .colab-df-container {\n",
              "      display:flex;\n",
              "      gap: 12px;\n",
              "    }\n",
              "\n",
              "    .colab-df-convert {\n",
              "      background-color: #E8F0FE;\n",
              "      border: none;\n",
              "      border-radius: 50%;\n",
              "      cursor: pointer;\n",
              "      display: none;\n",
              "      fill: #1967D2;\n",
              "      height: 32px;\n",
              "      padding: 0 0 0 0;\n",
              "      width: 32px;\n",
              "    }\n",
              "\n",
              "    .colab-df-convert:hover {\n",
              "      background-color: #E2EBFA;\n",
              "      box-shadow: 0px 1px 2px rgba(60, 64, 67, 0.3), 0px 1px 3px 1px rgba(60, 64, 67, 0.15);\n",
              "      fill: #174EA6;\n",
              "    }\n",
              "\n",
              "    .colab-df-buttons div {\n",
              "      margin-bottom: 4px;\n",
              "    }\n",
              "\n",
              "    [theme=dark] .colab-df-convert {\n",
              "      background-color: #3B4455;\n",
              "      fill: #D2E3FC;\n",
              "    }\n",
              "\n",
              "    [theme=dark] .colab-df-convert:hover {\n",
              "      background-color: #434B5C;\n",
              "      box-shadow: 0px 1px 3px 1px rgba(0, 0, 0, 0.15);\n",
              "      filter: drop-shadow(0px 1px 2px rgba(0, 0, 0, 0.3));\n",
              "      fill: #FFFFFF;\n",
              "    }\n",
              "  </style>\n",
              "\n",
              "    <script>\n",
              "      const buttonEl =\n",
              "        document.querySelector('#df-e640c8a5-1c08-407f-8a5e-292706bf45e9 button.colab-df-convert');\n",
              "      buttonEl.style.display =\n",
              "        google.colab.kernel.accessAllowed ? 'block' : 'none';\n",
              "\n",
              "      async function convertToInteractive(key) {\n",
              "        const element = document.querySelector('#df-e640c8a5-1c08-407f-8a5e-292706bf45e9');\n",
              "        const dataTable =\n",
              "          await google.colab.kernel.invokeFunction('convertToInteractive',\n",
              "                                                    [key], {});\n",
              "        if (!dataTable) return;\n",
              "\n",
              "        const docLinkHtml = 'Like what you see? Visit the ' +\n",
              "          '<a target=\"_blank\" href=https://colab.research.google.com/notebooks/data_table.ipynb>data table notebook</a>'\n",
              "          + ' to learn more about interactive tables.';\n",
              "        element.innerHTML = '';\n",
              "        dataTable['output_type'] = 'display_data';\n",
              "        await google.colab.output.renderOutput(dataTable, element);\n",
              "        const docLink = document.createElement('div');\n",
              "        docLink.innerHTML = docLinkHtml;\n",
              "        element.appendChild(docLink);\n",
              "      }\n",
              "    </script>\n",
              "  </div>\n",
              "\n",
              "\n",
              "<div id=\"df-ef695c47-ca79-46b6-b5f2-d25fc206dde0\">\n",
              "  <button class=\"colab-df-quickchart\" onclick=\"quickchart('df-ef695c47-ca79-46b6-b5f2-d25fc206dde0')\"\n",
              "            title=\"Suggest charts\"\n",
              "            style=\"display:none;\">\n",
              "\n",
              "<svg xmlns=\"http://www.w3.org/2000/svg\" height=\"24px\"viewBox=\"0 0 24 24\"\n",
              "     width=\"24px\">\n",
              "    <g>\n",
              "        <path d=\"M19 3H5c-1.1 0-2 .9-2 2v14c0 1.1.9 2 2 2h14c1.1 0 2-.9 2-2V5c0-1.1-.9-2-2-2zM9 17H7v-7h2v7zm4 0h-2V7h2v10zm4 0h-2v-4h2v4z\"/>\n",
              "    </g>\n",
              "</svg>\n",
              "  </button>\n",
              "\n",
              "<style>\n",
              "  .colab-df-quickchart {\n",
              "      --bg-color: #E8F0FE;\n",
              "      --fill-color: #1967D2;\n",
              "      --hover-bg-color: #E2EBFA;\n",
              "      --hover-fill-color: #174EA6;\n",
              "      --disabled-fill-color: #AAA;\n",
              "      --disabled-bg-color: #DDD;\n",
              "  }\n",
              "\n",
              "  [theme=dark] .colab-df-quickchart {\n",
              "      --bg-color: #3B4455;\n",
              "      --fill-color: #D2E3FC;\n",
              "      --hover-bg-color: #434B5C;\n",
              "      --hover-fill-color: #FFFFFF;\n",
              "      --disabled-bg-color: #3B4455;\n",
              "      --disabled-fill-color: #666;\n",
              "  }\n",
              "\n",
              "  .colab-df-quickchart {\n",
              "    background-color: var(--bg-color);\n",
              "    border: none;\n",
              "    border-radius: 50%;\n",
              "    cursor: pointer;\n",
              "    display: none;\n",
              "    fill: var(--fill-color);\n",
              "    height: 32px;\n",
              "    padding: 0;\n",
              "    width: 32px;\n",
              "  }\n",
              "\n",
              "  .colab-df-quickchart:hover {\n",
              "    background-color: var(--hover-bg-color);\n",
              "    box-shadow: 0 1px 2px rgba(60, 64, 67, 0.3), 0 1px 3px 1px rgba(60, 64, 67, 0.15);\n",
              "    fill: var(--button-hover-fill-color);\n",
              "  }\n",
              "\n",
              "  .colab-df-quickchart-complete:disabled,\n",
              "  .colab-df-quickchart-complete:disabled:hover {\n",
              "    background-color: var(--disabled-bg-color);\n",
              "    fill: var(--disabled-fill-color);\n",
              "    box-shadow: none;\n",
              "  }\n",
              "\n",
              "  .colab-df-spinner {\n",
              "    border: 2px solid var(--fill-color);\n",
              "    border-color: transparent;\n",
              "    border-bottom-color: var(--fill-color);\n",
              "    animation:\n",
              "      spin 1s steps(1) infinite;\n",
              "  }\n",
              "\n",
              "  @keyframes spin {\n",
              "    0% {\n",
              "      border-color: transparent;\n",
              "      border-bottom-color: var(--fill-color);\n",
              "      border-left-color: var(--fill-color);\n",
              "    }\n",
              "    20% {\n",
              "      border-color: transparent;\n",
              "      border-left-color: var(--fill-color);\n",
              "      border-top-color: var(--fill-color);\n",
              "    }\n",
              "    30% {\n",
              "      border-color: transparent;\n",
              "      border-left-color: var(--fill-color);\n",
              "      border-top-color: var(--fill-color);\n",
              "      border-right-color: var(--fill-color);\n",
              "    }\n",
              "    40% {\n",
              "      border-color: transparent;\n",
              "      border-right-color: var(--fill-color);\n",
              "      border-top-color: var(--fill-color);\n",
              "    }\n",
              "    60% {\n",
              "      border-color: transparent;\n",
              "      border-right-color: var(--fill-color);\n",
              "    }\n",
              "    80% {\n",
              "      border-color: transparent;\n",
              "      border-right-color: var(--fill-color);\n",
              "      border-bottom-color: var(--fill-color);\n",
              "    }\n",
              "    90% {\n",
              "      border-color: transparent;\n",
              "      border-bottom-color: var(--fill-color);\n",
              "    }\n",
              "  }\n",
              "</style>\n",
              "\n",
              "  <script>\n",
              "    async function quickchart(key) {\n",
              "      const quickchartButtonEl =\n",
              "        document.querySelector('#' + key + ' button');\n",
              "      quickchartButtonEl.disabled = true;  // To prevent multiple clicks.\n",
              "      quickchartButtonEl.classList.add('colab-df-spinner');\n",
              "      try {\n",
              "        const charts = await google.colab.kernel.invokeFunction(\n",
              "            'suggestCharts', [key], {});\n",
              "      } catch (error) {\n",
              "        console.error('Error during call to suggestCharts:', error);\n",
              "      }\n",
              "      quickchartButtonEl.classList.remove('colab-df-spinner');\n",
              "      quickchartButtonEl.classList.add('colab-df-quickchart-complete');\n",
              "    }\n",
              "    (() => {\n",
              "      let quickchartButtonEl =\n",
              "        document.querySelector('#df-ef695c47-ca79-46b6-b5f2-d25fc206dde0 button');\n",
              "      quickchartButtonEl.style.display =\n",
              "        google.colab.kernel.accessAllowed ? 'block' : 'none';\n",
              "    })();\n",
              "  </script>\n",
              "</div>\n",
              "\n",
              "    </div>\n",
              "  </div>\n"
            ],
            "application/vnd.google.colaboratory.intrinsic+json": {
              "type": "dataframe",
              "summary": "{\n  \"name\": \"df\",\n  \"rows\": 8,\n  \"fields\": [\n    {\n      \"column\": \"Date\",\n      \"properties\": {\n        \"dtype\": \"date\",\n        \"min\": \"1970-01-01 00:00:00.000001\",\n        \"max\": \"2024-01-01 00:00:00\",\n        \"num_unique_values\": 7,\n        \"samples\": [\n          \"1000\",\n          \"2023-07-03 00:25:55.200000256\",\n          \"2023-10-04 00:00:00\"\n        ],\n        \"semantic_type\": \"\",\n        \"description\": \"\"\n      }\n    },\n    {\n      \"column\": \"Age\",\n      \"properties\": {\n        \"dtype\": \"number\",\n        \"std\": 340.78610904107535,\n        \"min\": 13.681429659122532,\n        \"max\": 1000.0,\n        \"num_unique_values\": 8,\n        \"samples\": [\n          41.392,\n          53.0,\n          1000.0\n        ],\n        \"semantic_type\": \"\",\n        \"description\": \"\"\n      }\n    },\n    {\n      \"column\": \"Quantity\",\n      \"properties\": {\n        \"dtype\": \"number\",\n        \"std\": 352.71483432640656,\n        \"min\": 1.0,\n        \"max\": 1000.0,\n        \"num_unique_values\": 6,\n        \"samples\": [\n          1000.0,\n          2.514,\n          1.1327343409145405\n        ],\n        \"semantic_type\": \"\",\n        \"description\": \"\"\n      }\n    },\n    {\n      \"column\": \"Price per Unit\",\n      \"properties\": {\n        \"dtype\": \"number\",\n        \"std\": 330.7254087976672,\n        \"min\": 25.0,\n        \"max\": 1000.0,\n        \"num_unique_values\": 8,\n        \"samples\": [\n          179.89,\n          300.0,\n          1000.0\n        ],\n        \"semantic_type\": \"\",\n        \"description\": \"\"\n      }\n    },\n    {\n      \"column\": \"Total Amount\",\n      \"properties\": {\n        \"dtype\": \"number\",\n        \"std\": 660.8084213867855,\n        \"min\": 25.0,\n        \"max\": 2000.0,\n        \"num_unique_values\": 8,\n        \"samples\": [\n          456.0,\n          900.0,\n          1000.0\n        ],\n        \"semantic_type\": \"\",\n        \"description\": \"\"\n      }\n    }\n  ]\n}"
            }
          },
          "metadata": {},
          "execution_count": 63
        }
      ]
    },
    {
      "cell_type": "code",
      "source": [
        "# Calcular la moda\n",
        "moda = df[numerical_columns].mode().iloc[0]\n",
        "\n",
        "# Calcular el rango\n",
        "rango = df[numerical_columns].max() - df[numerical_columns].min()\n",
        "\n",
        "# Mostrar los resultados\n",
        "print(\"\\nMedidas de tendencia central y dispersión adicionales:\")\n",
        "print(f\"\\nModa:\\n{moda}\")\n",
        "print(f\"\\nRango:\\n{rango}\")"
      ],
      "metadata": {
        "colab": {
          "base_uri": "https://localhost:8080/"
        },
        "id": "verpcIx3tTob",
        "outputId": "d9946169-ab09-42a7-cf39-b9d77bae526e"
      },
      "execution_count": 64,
      "outputs": [
        {
          "output_type": "stream",
          "name": "stdout",
          "text": [
            "\n",
            "Medidas de tendencia central y dispersión adicionales:\n",
            "\n",
            "Moda:\n",
            "Age               43.0\n",
            "Quantity           4.0\n",
            "Price per Unit    50.0\n",
            "Total Amount      50.0\n",
            "Name: 0, dtype: float64\n",
            "\n",
            "Rango:\n",
            "Age                 46\n",
            "Quantity             3\n",
            "Price per Unit     475\n",
            "Total Amount      1975\n",
            "dtype: int64\n"
          ]
        }
      ]
    },
    {
      "cell_type": "markdown",
      "source": [
        "\n",
        "\n",
        "> Para este requerimiento se procedió a utilizar el método describe() ya que realiza gran parte de lo requerido y para concluir realizamos cálculos para completar las demás medidas requeridos\n",
        "\n"
      ],
      "metadata": {
        "id": "BnGU-phauIx9"
      }
    },
    {
      "cell_type": "markdown",
      "source": [
        "----------------------------------------------\n",
        "# **Paso 3 - Implementación de Modelos:**\n",
        "* **Modelos de Regresión:** Implementa modelos de Decision Tree Regressor y Random Forest Regressor.\n",
        "* **Optimización de Modelos:** Utiliza GridSearchCV para optimizar los hiperparámetros de los modelos.\n",
        "* **Evaluación de Modelos:** Evalúa los modelos utilizando métricas como MSE, RMSE, y R².\n",
        "* **Comparación de Rendimiento:** Compara los resultados de ambos modelos y discute cuál es el más adecuado para este dataset.\n",
        "----------------------------------------------"
      ],
      "metadata": {
        "id": "wd7pUu7iuSTw"
      }
    },
    {
      "cell_type": "markdown",
      "source": [
        "# Modelado con datos sin transformar"
      ],
      "metadata": {
        "id": "UlGjQFlmybxM"
      }
    },
    {
      "cell_type": "code",
      "source": [
        "df[numerical_columns].columns.tolist()"
      ],
      "metadata": {
        "colab": {
          "base_uri": "https://localhost:8080/"
        },
        "id": "jOwaAAeA1r4j",
        "outputId": "7932e9c9-896a-4579-9612-e20501a50162"
      },
      "execution_count": 87,
      "outputs": [
        {
          "output_type": "execute_result",
          "data": {
            "text/plain": [
              "['Age', 'Quantity', 'Price per Unit', 'Total Amount']"
            ]
          },
          "metadata": {},
          "execution_count": 87
        }
      ]
    },
    {
      "cell_type": "markdown",
      "source": [
        "\n",
        "\n",
        "> Determinar solo la columna numérica para modelar en base al dato original para tener un primer modelo de comparación\n",
        "\n"
      ],
      "metadata": {
        "id": "xZS61oG94im6"
      }
    },
    {
      "cell_type": "code",
      "source": [
        "# División de los datos en características y variable objetivo\n",
        "X = df[['Age', 'Quantity', 'Price per Unit']]\n",
        "y = df['Total Amount']\n",
        "\n",
        "# División en conjunto de entrenamiento (60%), validación (20%) y prueba (20%)\n",
        "X_train_val, X_test, y_train_val, y_test = train_test_split(X, y, test_size=0.2, random_state=42)\n",
        "X_train, X_val, y_train, y_val = train_test_split(X_train_val, y_train_val, test_size=0.25, random_state=42)\n",
        "\n",
        "print(f\"Tamaño del conjunto de entrenamiento: {len(X_train)}\")\n",
        "print(f\"Tamaño del conjunto de validación: {len(X_val)}\")\n",
        "print(f\"Tamaño del conjunto de prueba: {len(X_test)}\")"
      ],
      "metadata": {
        "colab": {
          "base_uri": "https://localhost:8080/"
        },
        "id": "Xw7vGKBE0oTm",
        "outputId": "df74071c-0377-4f36-bcb9-5c3ef704862c"
      },
      "execution_count": 88,
      "outputs": [
        {
          "output_type": "stream",
          "name": "stdout",
          "text": [
            "Tamaño del conjunto de entrenamiento: 600\n",
            "Tamaño del conjunto de validación: 200\n",
            "Tamaño del conjunto de prueba: 200\n"
          ]
        }
      ]
    },
    {
      "cell_type": "markdown",
      "source": [
        "\n",
        "\n",
        "> Hacer la división de los datos numéricos en características y variable objetivo y dividir en conjunto de entrenamiento, validación y prueba.\n",
        "\n"
      ],
      "metadata": {
        "id": "QPik-5oV5Acq"
      }
    },
    {
      "cell_type": "code",
      "source": [
        "# Modelo: Decision Tree Regressor\n",
        "dt_model = DecisionTreeRegressor(random_state=42)\n",
        "dt_model.fit(X_train, y_train)\n",
        "\n",
        "# Predicciones\n",
        "y_val_pred_dt = dt_model.predict(X_val)\n",
        "\n",
        "# Métricas de evaluación\n",
        "mse_dt = mean_squared_error(y_val, y_val_pred_dt)\n",
        "rmse_dt = np.sqrt(mse_dt)\n",
        "r2_dt = r2_score(y_val, y_val_pred_dt)\n",
        "\n",
        "print(\"Resultados Decision Tree Regressor:\")\n",
        "print(f\"MSE (Validación): {mse_dt}\")\n",
        "print(f\"RMSE (Validación): {rmse_dt}\")\n",
        "print(f\"R² (Validación): {r2_dt}\")"
      ],
      "metadata": {
        "colab": {
          "base_uri": "https://localhost:8080/"
        },
        "id": "0b9st3Hh2Ipz",
        "outputId": "013be132-8f44-49c1-ceb9-95e3e9afa292"
      },
      "execution_count": 89,
      "outputs": [
        {
          "output_type": "stream",
          "name": "stdout",
          "text": [
            "Resultados Decision Tree Regressor:\n",
            "MSE (Validación): 0.0\n",
            "RMSE (Validación): 0.0\n",
            "R² (Validación): 1.0\n"
          ]
        }
      ]
    },
    {
      "cell_type": "markdown",
      "source": [
        "\n",
        "\n",
        "> Para el modelo de Decision Tree Regressor con esos datos originales tenemos una resultado de R²: 1.0 o más bien un resultado óptimo.\n",
        "\n"
      ],
      "metadata": {
        "id": "K8YBNkCn5tES"
      }
    },
    {
      "cell_type": "code",
      "source": [
        "# Modelo: Random Forest Regressor\n",
        "rf_model = RandomForestRegressor(random_state=42, n_estimators=100)\n",
        "rf_model.fit(X_train, y_train)\n",
        "\n",
        "# Predicciones\n",
        "y_val_pred_rf = rf_model.predict(X_val)\n",
        "\n",
        "# Métricas de evaluación\n",
        "mse_rf = mean_squared_error(y_val, y_val_pred_rf)\n",
        "rmse_rf = np.sqrt(mse_rf)\n",
        "r2_rf = r2_score(y_val, y_val_pred_rf)\n",
        "\n",
        "print(\"Resultados Random Forest Regressor:\")\n",
        "print(f\"MSE (Validación): {mse_rf}\")\n",
        "print(f\"RMSE (Validación): {rmse_rf}\")\n",
        "print(f\"R² (Validación): {r2_rf}\")"
      ],
      "metadata": {
        "colab": {
          "base_uri": "https://localhost:8080/"
        },
        "id": "83heCF1H3cFM",
        "outputId": "1a47b704-f633-4112-b065-29db5f51d357"
      },
      "execution_count": 90,
      "outputs": [
        {
          "output_type": "stream",
          "name": "stdout",
          "text": [
            "Resultados Random Forest Regressor:\n",
            "MSE (Validación): 0.0\n",
            "RMSE (Validación): 0.0\n",
            "R² (Validación): 1.0\n"
          ]
        }
      ]
    },
    {
      "cell_type": "markdown",
      "source": [
        "\n",
        "\n",
        "> Para el modelo de Random Forest Regressor con esos datos originales tenemos una resultado de R²: 1.0 o más bien un resultado óptimo.\n",
        "\n"
      ],
      "metadata": {
        "id": "R8M0hbfW6ZqS"
      }
    },
    {
      "cell_type": "code",
      "source": [
        "# Definimos los hiperparámetros a optimizar\n",
        "param_grid_dt = {\n",
        "    'max_depth': [None, 5, 10, 15, 20],\n",
        "    'min_samples_split': [2, 5, 10],\n",
        "    'min_samples_leaf': [1, 2, 4]\n",
        "}\n",
        "\n",
        "# GridSearchCV\n",
        "grid_dt = GridSearchCV(DecisionTreeRegressor(random_state=42), param_grid=param_grid_dt, cv=3, scoring='neg_mean_squared_error', n_jobs=-1)\n",
        "grid_dt.fit(X_train, y_train)\n",
        "\n",
        "# Mejor modelo y parámetros\n",
        "best_dt_model = grid_dt.best_estimator_\n",
        "print(\"Mejores hiperparámetros para Decision Tree Regressor:\", grid_dt.best_params_)"
      ],
      "metadata": {
        "colab": {
          "base_uri": "https://localhost:8080/"
        },
        "id": "wKia6TIw6v3y",
        "outputId": "371ab0f2-a0d6-464a-8c8f-b943df6cf124"
      },
      "execution_count": 91,
      "outputs": [
        {
          "output_type": "stream",
          "name": "stdout",
          "text": [
            "Mejores hiperparámetros para Decision Tree Regressor: {'max_depth': None, 'min_samples_leaf': 1, 'min_samples_split': 2}\n"
          ]
        }
      ]
    },
    {
      "cell_type": "markdown",
      "source": [
        "\n",
        "\n",
        "> Para el modelo de Decisión Tree Regressor con hiperparámetros esa es la que determino como mejor métrica.\n",
        "\n"
      ],
      "metadata": {
        "id": "ccMwiq_x7Zcc"
      }
    },
    {
      "cell_type": "code",
      "source": [
        "# Definimos los hiperparámetros a optimizar\n",
        "param_grid_rf = {\n",
        "    'n_estimators': [50, 100, 200],\n",
        "    'max_depth': [None, 10, 20],\n",
        "    'min_samples_split': [2, 5],\n",
        "    'min_samples_leaf': [1, 2],\n",
        "    'bootstrap': [True, False]\n",
        "}\n",
        "\n",
        "# GridSearchCV\n",
        "grid_rf = GridSearchCV(RandomForestRegressor(random_state=42), param_grid=param_grid_rf, cv=3, scoring='neg_mean_squared_error', n_jobs=-1)\n",
        "grid_rf.fit(X_train, y_train)\n",
        "\n",
        "# Mejor modelo y parámetros\n",
        "best_rf_model = grid_rf.best_estimator_\n",
        "print(\"Mejores hiperparámetros para Random Forest Regressor:\", grid_rf.best_params_)\n"
      ],
      "metadata": {
        "colab": {
          "base_uri": "https://localhost:8080/"
        },
        "id": "hbpx0fTW7a6h",
        "outputId": "9469e806-8482-482d-89aa-34f2003cf856"
      },
      "execution_count": 92,
      "outputs": [
        {
          "output_type": "stream",
          "name": "stdout",
          "text": [
            "Mejores hiperparámetros para Random Forest Regressor: {'bootstrap': True, 'max_depth': None, 'min_samples_leaf': 1, 'min_samples_split': 2, 'n_estimators': 50}\n"
          ]
        }
      ]
    },
    {
      "cell_type": "markdown",
      "source": [
        "\n",
        "\n",
        "> Para el modelo de Random Forest Regressor con hiperparámetros esa es la que determino como mejor métrica.\n",
        "\n"
      ],
      "metadata": {
        "id": "0da0EH9W7hXZ"
      }
    },
    {
      "cell_type": "code",
      "source": [
        "# Predicciones con el modelo optimizado\n",
        "y_val_pred_dt_opt = best_dt_model.predict(X_val)\n",
        "y_test_pred_dt_opt = best_dt_model.predict(X_test)\n",
        "\n",
        "# Métricas en validación\n",
        "mse_val_dt = mean_squared_error(y_val, y_val_pred_dt_opt)\n",
        "rmse_val_dt = np.sqrt(mse_val_dt)\n",
        "r2_val_dt = r2_score(y_val, y_val_pred_dt_opt)\n",
        "\n",
        "# Métricas en prueba\n",
        "mse_test_dt = mean_squared_error(y_test, y_test_pred_dt_opt)\n",
        "rmse_test_dt = np.sqrt(mse_test_dt)\n",
        "r2_test_dt = r2_score(y_test, y_test_pred_dt_opt)\n",
        "\n",
        "print(\"\\nEvaluación Decision Tree Regressor:\")\n",
        "print(f\"MSE  (Validación): {mse_val_dt},   MSE (Prueba): {mse_test_dt}\")\n",
        "print(f\"RMSE (Validación): {rmse_val_dt},  RMSE (Prueba): {rmse_test_dt}\")\n",
        "print(f\"R²   (Validación): {r2_val_dt},    R² (Prueba): {r2_test_dt}\")"
      ],
      "metadata": {
        "colab": {
          "base_uri": "https://localhost:8080/"
        },
        "id": "0LQgcLy07iYZ",
        "outputId": "40c9338d-19b0-4205-80ba-f3d215be4456"
      },
      "execution_count": 93,
      "outputs": [
        {
          "output_type": "stream",
          "name": "stdout",
          "text": [
            "\n",
            "Evaluación Decision Tree Regressor:\n",
            "MSE  (Validación): 0.0,   MSE (Prueba): 0.0\n",
            "RMSE (Validación): 0.0,  RMSE (Prueba): 0.0\n",
            "R²   (Validación): 1.0,    R² (Prueba): 1.0\n"
          ]
        }
      ]
    },
    {
      "cell_type": "markdown",
      "source": [
        "\n",
        "\n",
        "> Evaluación Decision Tree Regressor Validación vs Prueba\n",
        "\n"
      ],
      "metadata": {
        "id": "M5Bv6pbe7pdi"
      }
    },
    {
      "cell_type": "code",
      "source": [
        "# Predicciones con el modelo optimizado\n",
        "y_val_pred_rf_opt = best_rf_model.predict(X_val)\n",
        "y_test_pred_rf_opt = best_rf_model.predict(X_test)\n",
        "\n",
        "# Métricas en validación\n",
        "mse_val_rf = mean_squared_error(y_val, y_val_pred_rf_opt)\n",
        "rmse_val_rf = np.sqrt(mse_val_rf)\n",
        "r2_val_rf = r2_score(y_val, y_val_pred_rf_opt)\n",
        "\n",
        "# Métricas en prueba\n",
        "mse_test_rf = mean_squared_error(y_test, y_test_pred_rf_opt)\n",
        "rmse_test_rf = np.sqrt(mse_test_rf)\n",
        "r2_test_rf = r2_score(y_test, y_test_pred_rf_opt)\n",
        "\n",
        "print(\"\\nEvaluación Random Forest Regressor:\")\n",
        "print(f\"MSE  (Validación): {mse_val_rf},  MSE (Prueba): {mse_test_rf}\")\n",
        "print(f\"RMSE (Validación): {rmse_val_rf}, RMSE (Prueba): {rmse_test_rf}\")\n",
        "print(f\"R²   (Validación): {r2_val_rf},   R² (Prueba): {r2_test_rf}\")"
      ],
      "metadata": {
        "colab": {
          "base_uri": "https://localhost:8080/"
        },
        "id": "qq_du3vp7rNi",
        "outputId": "f29e0a3a-02bc-4437-fcb9-9aa320d50c52"
      },
      "execution_count": 94,
      "outputs": [
        {
          "output_type": "stream",
          "name": "stdout",
          "text": [
            "\n",
            "Evaluación Random Forest Regressor:\n",
            "MSE  (Validación): 0.0,  MSE (Prueba): 0.0\n",
            "RMSE (Validación): 0.0, RMSE (Prueba): 0.0\n",
            "R²   (Validación): 1.0,   R² (Prueba): 1.0\n"
          ]
        }
      ]
    },
    {
      "cell_type": "markdown",
      "source": [
        "\n",
        "\n",
        "> Evaluación Random Forest Regressor Validación vs Prueba\n",
        "\n"
      ],
      "metadata": {
        "id": "UmpeiiW37yxr"
      }
    },
    {
      "cell_type": "code",
      "source": [
        "comparison = pd.DataFrame({\n",
        "    'Modelo': ['Decision Tree', 'Random Forest'],\n",
        "    'MSE_Validación': [mse_val_dt, mse_val_rf],\n",
        "    'RMSE_Validación': [rmse_val_dt, rmse_val_rf],\n",
        "    'R²_Validación': [r2_val_dt, r2_val_rf],\n",
        "    'MSE_Prueba': [mse_test_dt, mse_test_rf],\n",
        "    'RMSE_Prueba': [rmse_test_dt, rmse_test_rf],\n",
        "    'R²_Prueba': [r2_test_dt, r2_test_rf]\n",
        "})\n",
        "\n",
        "print(comparison)"
      ],
      "metadata": {
        "colab": {
          "base_uri": "https://localhost:8080/"
        },
        "id": "Iqd30vuz7yF0",
        "outputId": "03b1ea35-fa43-40af-8a83-7e5dffdc420c"
      },
      "execution_count": 95,
      "outputs": [
        {
          "output_type": "stream",
          "name": "stdout",
          "text": [
            "          Modelo  MSE_Validación  RMSE_Validación  R²_Validación  MSE_Prueba  \\\n",
            "0  Decision Tree             0.0              0.0            1.0         0.0   \n",
            "1  Random Forest             0.0              0.0            1.0         0.0   \n",
            "\n",
            "   RMSE_Prueba  R²_Prueba  \n",
            "0          0.0        1.0  \n",
            "1          0.0        1.0  \n"
          ]
        }
      ]
    },
    {
      "cell_type": "markdown",
      "source": [
        "\n",
        "\n",
        "> Comparación de los dos modelos\n",
        "\n"
      ],
      "metadata": {
        "id": "GOn86bcL743B"
      }
    },
    {
      "cell_type": "markdown",
      "source": [
        "\n",
        "\n",
        "> **Para el modelado inicial utilizando los datos numéricos originales, los resultados obtenidos muestran que tanto el Decision Tree Regressor como el Random Forest Regressor alcanzaron un R² de 1.00 en los conjuntos de validación y prueba. Esto indica que ambos modelos lograron interpretar perfectamente la relación entre las variables predictoras y la variable objetivo, ajustándose completamente a los datos.**\n",
        "\n"
      ],
      "metadata": {
        "id": "_X3E1abC_Rd9"
      }
    },
    {
      "cell_type": "markdown",
      "source": [
        "#Modelado con tranformación"
      ],
      "metadata": {
        "id": "SHQxIWr66y1l"
      }
    },
    {
      "cell_type": "code",
      "source": [
        "# Datos categoricos y datos numerios\n",
        "print(df[categorical_columns].columns.tolist())\n",
        "print(df[numerical_columns].columns.tolist())"
      ],
      "metadata": {
        "colab": {
          "base_uri": "https://localhost:8080/"
        },
        "id": "iKVclrUBBV61",
        "outputId": "200882f3-b0c8-4a70-a25e-165ff5f1c972"
      },
      "execution_count": 98,
      "outputs": [
        {
          "output_type": "stream",
          "name": "stdout",
          "text": [
            "['Gender', 'Product Category']\n",
            "['Age', 'Quantity', 'Price per Unit', 'Total Amount']\n"
          ]
        }
      ]
    },
    {
      "cell_type": "markdown",
      "source": [
        "\n",
        "\n",
        "> Determinar las columnas numéricas y categóricas para modelar en base a esos datos\n",
        "\n"
      ],
      "metadata": {
        "id": "tcaOqw6nF-CH"
      }
    },
    {
      "cell_type": "code",
      "source": [
        "# Identificación de columnas categóricas y numéricas\n",
        "categoricas = ['Gender', 'Product Category']\n",
        "numericas = ['Age', 'Quantity', 'Price per Unit']\n",
        "\n",
        "# División de los datos en características y variable objetivo\n",
        "X = df[categoricas + numericas]\n",
        "y = df['Total Amount']\n",
        "\n",
        "# División en conjunto de entrenamiento (60%), validación (20%) y prueba (20%)\n",
        "X_train_val, X_test, y_train_val, y_test = train_test_split(X, y, test_size=0.2, random_state=42)\n",
        "X_train, X_val, y_train, y_val = train_test_split(X_train_val, y_train_val, test_size=0.25, random_state=42)\n",
        "\n",
        "print(f\"Tamaño del conjunto de entrenamiento: {len(X_train)}\")\n",
        "print(f\"Tamaño del conjunto de validación: {len(X_val)}\")\n",
        "print(f\"Tamaño del conjunto de prueba: {len(X_test)}\")"
      ],
      "metadata": {
        "colab": {
          "base_uri": "https://localhost:8080/"
        },
        "id": "bj-fWjxD1psI",
        "outputId": "f3b7c7f8-918d-46cf-94b7-613d8f063dff"
      },
      "execution_count": 99,
      "outputs": [
        {
          "output_type": "stream",
          "name": "stdout",
          "text": [
            "Tamaño del conjunto de entrenamiento: 600\n",
            "Tamaño del conjunto de validación: 200\n",
            "Tamaño del conjunto de prueba: 200\n"
          ]
        }
      ]
    },
    {
      "cell_type": "markdown",
      "source": [
        "\n",
        "\n",
        "> Hacer la división de los datos numéricos y categóricos en características y variable objetivo y dividir en conjunto de entrenamiento, validación y prueba.\n",
        "\n"
      ],
      "metadata": {
        "id": "c3SZlx8aGenB"
      }
    },
    {
      "cell_type": "code",
      "source": [
        "# Crear los transformadores para cada tipo de dato\n",
        "transformador_categorico = OneHotEncoder(sparse_output=False, drop='first')\n",
        "transformador_numerico = StandardScaler()\n",
        "\n",
        "# Crear el preprocesador usando ColumnTransformer\n",
        "preprocesador = ColumnTransformer(\n",
        "    transformers=[\n",
        "        ('cat', transformador_categorico, categoricas),\n",
        "        ('num', transformador_numerico, numericas)\n",
        "    ]\n",
        ")\n",
        "\n",
        "# Aplicar el preprocesador a los datos de entrenamiento, validación y prueba\n",
        "X_train_transf = preprocesador.fit_transform(X_train)\n",
        "X_val_transf = preprocesador.transform(X_val)\n",
        "X_test_transf = preprocesador.transform(X_test)\n",
        "\n",
        "# Imprimir las formas de los conjuntos transformados\n",
        "print(f\"Dimensión del conjunto de entrenamiento transformado: {X_train_transf.shape}\")\n",
        "print(f\"Dimensión del conjunto de validación transformado: {X_val_transf.shape}\")\n",
        "print(f\"Dimensión del conjunto de prueba transformado: {X_test_transf.shape}\")"
      ],
      "metadata": {
        "colab": {
          "base_uri": "https://localhost:8080/"
        },
        "id": "XvUWVFONDtEs",
        "outputId": "70d5b863-063f-4a32-c0e2-127caca1cdf6"
      },
      "execution_count": 102,
      "outputs": [
        {
          "output_type": "stream",
          "name": "stdout",
          "text": [
            "Dimensión del conjunto de entrenamiento transformado: (600, 6)\n",
            "Dimensión del conjunto de validación transformado: (200, 6)\n",
            "Dimensión del conjunto de prueba transformado: (200, 6)\n"
          ]
        }
      ]
    },
    {
      "cell_type": "markdown",
      "source": [
        "\n",
        "\n",
        "> Transformar los datos categóricos con OneHotEcoder y los numéricos el aplicamos un StandarScaler.\n",
        "\n"
      ],
      "metadata": {
        "id": "bI_BaZIbGpQ_"
      }
    },
    {
      "cell_type": "code",
      "source": [
        "# Inicializar los modelos\n",
        "decision_tree = DecisionTreeRegressor(random_state=42)\n",
        "random_forest = RandomForestRegressor(random_state=42, n_estimators=100)\n",
        "\n",
        "# Entrenar Decision Tree Regressor\n",
        "decision_tree.fit(X_train_transf, y_train)\n",
        "y_pred_tree = decision_tree.predict(X_val_transf)\n",
        "\n",
        "# Entrenar Random Forest Regressor\n",
        "random_forest.fit(X_train_transf, y_train)\n",
        "y_pred_forest = random_forest.predict(X_val_transf)\n",
        "\n",
        "# Evaluación de métricas\n",
        "def evaluar_modelo(y_val, y_pred, nombre_modelo):\n",
        "    mse = mean_squared_error(y_val, y_pred)\n",
        "    rmse = np.sqrt(mse)\n",
        "    r2 = r2_score(y_val, y_pred)\n",
        "    print(f\"Resultados para {nombre_modelo}:\")\n",
        "    print(f\" - MSE: {mse:.2f}\")\n",
        "    print(f\" - RMSE: {rmse:.2f}\")\n",
        "    print(f\" - R²: {r2:.2f}\\n\")\n",
        "\n",
        "# Evaluar Decision Tree Regressor\n",
        "evaluar_modelo(y_val, y_pred_tree, \"Decision Tree Regressor\")\n",
        "\n",
        "# Evaluar Random Forest Regressor\n",
        "evaluar_modelo(y_val, y_pred_forest, \"Random Forest Regressor\")"
      ],
      "metadata": {
        "colab": {
          "base_uri": "https://localhost:8080/"
        },
        "id": "ayNGaRLLESMA",
        "outputId": "181498df-f076-4e43-bd9e-62cfacc01d30"
      },
      "execution_count": 105,
      "outputs": [
        {
          "output_type": "stream",
          "name": "stdout",
          "text": [
            "Resultados para Decision Tree Regressor:\n",
            " - MSE: 0.00\n",
            " - RMSE: 0.00\n",
            " - R²: 1.00\n",
            "\n",
            "Resultados para Random Forest Regressor:\n",
            " - MSE: 0.00\n",
            " - RMSE: 0.00\n",
            " - R²: 1.00\n",
            "\n"
          ]
        }
      ]
    },
    {
      "cell_type": "markdown",
      "source": [
        "\n",
        "\n",
        "> Aplicamos el modelado para Decision Tree Regressor y Random Forest Regressor obteniendo el mismo resultado con los datos originales con un R²: 1.00 para ambos modelos\n",
        "\n"
      ],
      "metadata": {
        "id": "r9Ul6aNGHTWG"
      }
    },
    {
      "cell_type": "code",
      "source": [
        "# Parámetros para el Decision Tree Regressor\n",
        "param_grid_tree = {\n",
        "    'criterion': ['squared_error', 'friedman_mse', 'poisson', 'absolute_error'],\n",
        "    'max_depth': [5, 10, 20, None],\n",
        "    'min_samples_split': [2, 5, 10],\n",
        "    'min_samples_leaf': [1, 2, 4]\n",
        "}\n",
        "\n",
        "# Parámetros para el Random Forest Regressor\n",
        "param_grid_forest = {\n",
        "    'n_estimators': [10, 50, 100, 200],\n",
        "    'max_depth': [5, 10, 20, None],\n",
        "    'min_samples_split': [2, 5, 10],\n",
        "    'min_samples_leaf': [1, 2, 4]\n",
        "}\n",
        "\n",
        "# Inicializar los modelos\n",
        "decision_tree = DecisionTreeRegressor(random_state=42)\n",
        "random_forest = RandomForestRegressor(random_state=42)\n",
        "\n",
        "# GridSearchCV para optimizar el Decision Tree Regressor\n",
        "grid_search_tree = GridSearchCV(estimator=decision_tree, param_grid=param_grid_tree, cv=5, scoring='neg_mean_squared_error', n_jobs=-1)\n",
        "grid_search_tree.fit(X_train_transf, y_train)\n",
        "\n",
        "# GridSearchCV para optimizar el Random Forest Regressor\n",
        "grid_search_forest = GridSearchCV(estimator=random_forest, param_grid=param_grid_forest, cv=5, scoring='neg_mean_squared_error', n_jobs=-1)\n",
        "grid_search_forest.fit(X_train_transf, y_train)\n",
        "\n",
        "# Resultados de la optimización\n",
        "print(\"Mejores hiperparámetros para Decision Tree Regressor:\", grid_search_tree.best_params_)\n",
        "print(\"Mejores hiperparámetros para Random Forest Regressor:\", grid_search_forest.best_params_)"
      ],
      "metadata": {
        "colab": {
          "base_uri": "https://localhost:8080/"
        },
        "id": "nA15YZxyJqTs",
        "outputId": "9e4257b0-1882-446d-95fb-ed5bdd830391"
      },
      "execution_count": 108,
      "outputs": [
        {
          "output_type": "stream",
          "name": "stdout",
          "text": [
            "Mejores hiperparámetros para Decision Tree Regressor: {'criterion': 'squared_error', 'max_depth': 5, 'min_samples_leaf': 1, 'min_samples_split': 2}\n",
            "Mejores hiperparámetros para Random Forest Regressor: {'max_depth': 5, 'min_samples_leaf': 1, 'min_samples_split': 2, 'n_estimators': 10}\n"
          ]
        }
      ]
    },
    {
      "cell_type": "markdown",
      "source": [
        "\n",
        "\n",
        "> Para los modelos de Decision Tree Regressor y Random Forest Regressor con hiperparámetros esa son las que determino como mejor métrica.\n"
      ],
      "metadata": {
        "id": "LpSnGRHdKKAV"
      }
    },
    {
      "cell_type": "code",
      "source": [
        "# Evaluar los modelos optimizados en el conjunto de prueba\n",
        "def evaluar_modelo_optimizado(y_test, y_pred, nombre_modelo):\n",
        "    mse = mean_squared_error(y_test, y_pred)\n",
        "    rmse = np.sqrt(mse)\n",
        "    r2 = r2_score(y_test, y_pred)\n",
        "    print(f\"Resultados para {nombre_modelo}:\")\n",
        "    print(f\" - MSE: {mse:.2f}\")\n",
        "    print(f\" - RMSE: {rmse:.2f}\")\n",
        "    print(f\" - R²: {r2:.2f}\\n\")\n",
        "\n",
        "# Predecir y evaluar Decision Tree optimizado en el conjunto de prueba\n",
        "y_pred_tree_opt = grid_search_tree.predict(X_test_transf)\n",
        "evaluar_modelo_optimizado(y_test, y_pred_tree_opt, \"Decision Tree Regressor Optimizado\")\n",
        "\n",
        "# Predecir y evaluar Random Forest optimizado en el conjunto de prueba\n",
        "y_pred_forest_opt = grid_search_forest.predict(X_test_transf)\n",
        "evaluar_modelo_optimizado(y_test, y_pred_forest_opt, \"Random Forest Regressor Optimizado\")"
      ],
      "metadata": {
        "colab": {
          "base_uri": "https://localhost:8080/"
        },
        "id": "11qIfmS9LcQE",
        "outputId": "92fae469-61dd-4d91-d9ab-f008472cc1c8"
      },
      "execution_count": 109,
      "outputs": [
        {
          "output_type": "stream",
          "name": "stdout",
          "text": [
            "Resultados para Decision Tree Regressor Optimizado:\n",
            " - MSE: 0.00\n",
            " - RMSE: 0.00\n",
            " - R²: 1.00\n",
            "\n",
            "Resultados para Random Forest Regressor Optimizado:\n",
            " - MSE: 0.00\n",
            " - RMSE: 0.00\n",
            " - R²: 1.00\n",
            "\n"
          ]
        }
      ]
    },
    {
      "cell_type": "markdown",
      "source": [
        "Evaluación de Decision Tree Regressor y Random Forest Regressor Prueba"
      ],
      "metadata": {
        "id": "gCnq_B36KvT2"
      }
    },
    {
      "cell_type": "markdown",
      "source": [
        "\n",
        "\n",
        "> **El modelado de los datos arroja como resulta idéntico en ambos análisis realizados, con un resultado de R² de 1.00 en Decision Tree Regressor y Random Forest Regressor. Sin embargo, un R² de 1.00 puede sugerir que los modelos están sobreajustados a los datos de entrenamiento, especialmente si los datos son limitados o presentan patrones específicos que los modelos capturan perfectamente. Este comportamiento es común en modelos como árboles de decisión o bosques aleatorios.**\n",
        "\n"
      ],
      "metadata": {
        "id": "6K6fo7n4LyWl"
      }
    }
  ]
}